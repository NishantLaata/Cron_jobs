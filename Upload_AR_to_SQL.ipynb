def Uploading_to_sql(today):
    import logging
    import os
    import sys
    import os
    import pandas as pd
    from datetime import date
    import LendemDS as ds
#     today = date.today().strftime("%Y_%m_%d")

    dataframe_to_pull_csv_path = '/home/nishant/nishant/Files_from_Clarity/'

    # List all CSV files in the directory
    csv_files = [file for file in os.listdir(dataframe_to_pull_csv_path) if file.endswith('.csv') and today in file]

    # Initialize an empty list to store individual DataFrames
    dataframes = []

    # Read each CSV file into a DataFrame and append it to the list
    for csv_file in csv_files:
        file_path = os.path.join(dataframe_to_pull_csv_path, csv_file)
        df = pd.read_csv(file_path, low_memory = False)
        dataframes.append(df)

    # Concatenate all DataFrames into one
    concatenated_df = pd.concat(dataframes, ignore_index=True)
    
#     Converting the datetime to date
    concatenated_df['I.i_received_at'] = pd.to_datetime(concatenated_df['I.i_received_at'])  
    # Convert the column to datetime if it's not already

    concatenated_df['I.i_received_at'] = concatenated_df['I.i_received_at'].dt.date

    
#    De duping the files before uploading to SQL

    concatenated_df = concatenated_df.drop_duplicates(subset=['I.pass_through_2','I.pass_through_3' ,'I.i_received_at'])

    # Display the concatenated DataFrame
#    print(concatenated_df)





   # CCA COLUMNS
    Only_CCA_and_other_cols = concatenated_df.filter(regex='^(?!FA|IA)')

    Only_CCA_and_other_cols = Only_CCA_and_other_cols[['I.pass_through_1', 'I.pass_through_2', 'I.pass_through_3','Action.code_description', 'Action.codes', 'Action.denial_product',
                                                       'Action.product_deny_order', 'Action.result', 'CC.check_bank_routing_num', 'CC.check_issue_date', 'CCA.active_duty_status', 
                                                       'CCA.amt_of_loans', 'CCA.amt_of_loans_30d_past_due', 'CCA.amt_of_loans_60d_past_due', 'CCA.amt_of_loans_90d_past_due', 
                                                       'CCA.amt_of_loans_curr_and_open', 'CCA.amt_of_loans_past_due', 'CCA.amt_of_loans_pd_off', 'CCA.amt_of_tars', 
                                                       'CCA.c48_inq.15_days', 'CCA.c48_inq.180_days', 'CCA.c48_inq.1_yr', 'CCA.c48_inq.24_hrs', 'CCA.c48_inq.2_yrs', 
                                                       'CCA.c48_inq.30_days', 'CCA.c48_inq.3_yrs', 'CCA.c48_inq.60_days', 'CCA.c48_inq.7_days', 'CCA.c48_inq.90_days', 
                                                       'CCA.c4d_inq.15_days', 'CCA.c4d_inq.180_days', 'CCA.c4d_inq.1_yr', 'CCA.c4d_inq.24_hrs', 'CCA.c4d_inq.2_yrs', 
                                                       'CCA.c4d_inq.30_days', 'CCA.c4d_inq.3_yrs', 'CCA.c4d_inq.60_days', 'CCA.c4d_inq.7_days', 'CCA.c4d_inq.90_days', 
                                                       'CCA.cc1_acl.15_days', 'CCA.cc1_acl.180_days', 'CCA.cc1_acl.1_yr', 'CCA.cc1_acl.24_hrs', 'CCA.cc1_acl.2_yrs', 
                                                       'CCA.cc1_acl.30_days', 'CCA.cc1_acl.3_yrs', 'CCA.cc1_acl.60_days', 'CCA.cc1_acl.7_days', 'CCA.cc1_acl.7_yrs', 
                                                       'CCA.cc1_acl.90_days', 'CCA.cc1_aco.15_days', 'CCA.cc1_aco.180_days', 'CCA.cc1_aco.1_yr', 'CCA.cc1_aco.24_hrs', 
                                                       'CCA.cc1_aco.2_yrs', 'CCA.cc1_aco.30_days', 'CCA.cc1_aco.3_yrs', 'CCA.cc1_aco.60_days', 'CCA.cc1_aco.7_days', 
                                                       'CCA.cc1_aco.7_yrs', 'CCA.cc1_aco.90_days', 'CCA.cc1_alp.15_days', 'CCA.cc1_alp.180_days', 'CCA.cc1_alp.1_yr', 
                                                       'CCA.cc1_alp.24_hrs', 'CCA.cc1_alp.2_yrs', 'CCA.cc1_alp.30_days', 'CCA.cc1_alp.3_yrs', 'CCA.cc1_alp.60_days', 
                                                       'CCA.cc1_alp.7_days', 'CCA.cc1_alp.7_yrs', 'CCA.cc1_alp.90_days', 'CCA.cc1_ato.15_days', 'CCA.cc1_ato.180_days', 
                                                       'CCA.cc1_ato.1_yr', 'CCA.cc1_ato.24_hrs', 'CCA.cc1_ato.2_yrs', 'CCA.cc1_ato.30_days', 'CCA.cc1_ato.3_yrs', 'CCA.cc1_ato.60_days', 
                                                       'CCA.cc1_ato.7_days', 'CCA.cc1_ato.7_yrs', 'CCA.cc1_ato.90_days', 'CCA.cc1_dcl.15_days', 'CCA.cc1_dcl.180_days', 'CCA.cc1_dcl.1_yr', 
                                                       'CCA.cc1_dcl.24_hrs', 'CCA.cc1_dcl.2_yrs', 'CCA.cc1_dcl.30_days', 'CCA.cc1_dcl.3_yrs', 'CCA.cc1_dcl.60_days', 
                                                       'CCA.cc1_dcl.7_days', 'CCA.cc1_dcl.7_yrs', 'CCA.cc1_dcl.90_days', 'CCA.cc1_dd.15_days', 'CCA.cc1_dd.180_days', 
                                                       'CCA.cc1_dd.1_yr', 'CCA.cc1_dd.24_hrs', 'CCA.cc1_dd.2_yrs', 'CCA.cc1_dd.30_days', 'CCA.cc1_dd.3_yrs', 'CCA.cc1_dd.60_days', 
                                                       'CCA.cc1_dd.7_days', 'CCA.cc1_dd.7_yrs', 'CCA.cc1_dd.90_days', 'CCA.cc1_dlp.15_days', 'CCA.cc1_dlp.180_days', 
                                                       'CCA.cc1_dlp.1_yr', 'CCA.cc1_dlp.24_hrs', 'CCA.cc1_dlp.2_yrs', 'CCA.cc1_dlp.30_days', 'CCA.cc1_dlp.3_yrs', 
                                                       'CCA.cc1_dlp.60_days', 'CCA.cc1_dlp.7_days', 'CCA.cc1_dlp.7_yrs', 'CCA.cc1_dlp.90_days', 'CCA.cc1_inq.15_days', 
                                                       'CCA.cc1_inq.180_days', 'CCA.cc1_inq.1_yr', 'CCA.cc1_inq.24_hrs', 'CCA.cc1_inq.2_yrs', 'CCA.cc1_inq.30_days', 
                                                       'CCA.cc1_inq.3_yrs', 'CCA.cc1_inq.60_days', 'CCA.cc1_inq.7_days', 'CCA.cc1_inq.90_days', 'CCA.cc1_ncl.15_days', 
                                                       'CCA.cc1_ncl.180_days', 'CCA.cc1_ncl.1_yr', 'CCA.cc1_ncl.24_hrs', 'CCA.cc1_ncl.2_yrs', 'CCA.cc1_ncl.30_days', 
                                                       'CCA.cc1_ncl.3_yrs', 'CCA.cc1_ncl.60_days', 'CCA.cc1_ncl.7_days', 'CCA.cc1_ncl.7_yrs', 'CCA.cc1_ncl.90_days', 
                                                       'CCA.cc1_nco.15_days', 'CCA.cc1_nco.180_days', 'CCA.cc1_nco.1_yr', 'CCA.cc1_nco.24_hrs', 'CCA.cc1_nco.2_yrs', 
                                                       'CCA.cc1_nco.30_days', 'CCA.cc1_nco.3_yrs', 'CCA.cc1_nco.60_days', 'CCA.cc1_nco.7_days', 'CCA.cc1_nco.7_yrs', 
                                                       'CCA.cc1_nco.90_days', 'CCA.cc1_nlp.15_days', 'CCA.cc1_nlp.180_days', 'CCA.cc1_nlp.1_yr', 'CCA.cc1_nlp.24_hrs', 
                                                       'CCA.cc1_nlp.2_yrs', 'CCA.cc1_nlp.30_days', 'CCA.cc1_nlp.3_yrs', 'CCA.cc1_nlp.60_days', 'CCA.cc1_nlp.7_days', 
                                                       'CCA.cc1_nlp.7_yrs', 'CCA.cc1_nlp.90_days', 'CCA.cc1_nto.15_days', 'CCA.cc1_nto.180_days', 'CCA.cc1_nto.1_yr', 
                                                       'CCA.cc1_nto.24_hrs', 'CCA.cc1_nto.2_yrs', 'CCA.cc1_nto.30_days', 'CCA.cc1_nto.3_yrs', 'CCA.cc1_nto.60_days', 
                                                       'CCA.cc1_nto.7_days', 'CCA.cc1_nto.7_yrs', 'CCA.cc1_nto.90_days', 'CCA.cc2_acl.15_days', 'CCA.cc2_acl.180_days', 
                                                       'CCA.cc2_acl.1_yr', 'CCA.cc2_acl.24_hrs', 'CCA.cc2_acl.2_yrs', 'CCA.cc2_acl.30_days', 'CCA.cc2_acl.3_yrs', 'CCA.cc2_acl.60_days', 
                                                       'CCA.cc2_acl.7_days', 'CCA.cc2_acl.7_yrs', 'CCA.cc2_acl.90_days', 'CCA.cc2_aco.15_days', 'CCA.cc2_aco.180_days', 
                                                       'CCA.cc2_aco.1_yr', 'CCA.cc2_aco.24_hrs', 'CCA.cc2_aco.2_yrs', 'CCA.cc2_aco.30_days', 'CCA.cc2_aco.3_yrs', 
                                                       'CCA.cc2_aco.60_days', 'CCA.cc2_aco.7_days', 'CCA.cc2_aco.7_yrs', 'CCA.cc2_aco.90_days', 'CCA.cc2_alp.15_days', 
                                                       'CCA.cc2_alp.180_days', 'CCA.cc2_alp.1_yr', 'CCA.cc2_alp.24_hrs', 'CCA.cc2_alp.2_yrs', 'CCA.cc2_alp.30_days', 
                                                       'CCA.cc2_alp.3_yrs', 'CCA.cc2_alp.60_days', 'CCA.cc2_alp.7_days', 'CCA.cc2_alp.7_yrs', 'CCA.cc2_alp.90_days', 
                                                       'CCA.cc2_ato.15_days', 'CCA.cc2_ato.180_days', 'CCA.cc2_ato.1_yr', 'CCA.cc2_ato.24_hrs', 'CCA.cc2_ato.2_yrs', 
                                                       'CCA.cc2_ato.30_days', 'CCA.cc2_ato.3_yrs', 'CCA.cc2_ato.60_days', 'CCA.cc2_ato.7_days', 'CCA.cc2_ato.7_yrs', 
                                                       'CCA.cc2_ato.90_days', 'CCA.cc2_dcl.15_days', 'CCA.cc2_dcl.180_days', 'CCA.cc2_dcl.1_yr', 'CCA.cc2_dcl.24_hrs', 
                                                       'CCA.cc2_dcl.2_yrs', 'CCA.cc2_dcl.30_days', 'CCA.cc2_dcl.3_yrs', 'CCA.cc2_dcl.60_days', 'CCA.cc2_dcl.7_days', 
                                                       'CCA.cc2_dcl.7_yrs', 'CCA.cc2_dcl.90_days', 'CCA.cc2_dd.15_days', 'CCA.cc2_dd.180_days', 'CCA.cc2_dd.1_yr', 'CCA.cc2_dd.24_hrs', 'CCA.cc2_dd.2_yrs', 
                                                       'CCA.cc2_dd.30_days', 'CCA.cc2_dd.3_yrs', 'CCA.cc2_dd.60_days', 'CCA.cc2_dd.7_days', 'CCA.cc2_dd.7_yrs', 'CCA.cc2_dd.90_days', 'CCA.cc2_dlp.15_days', 'CCA.cc2_dlp.180_days', 'CCA.cc2_dlp.1_yr', 'CCA.cc2_dlp.24_hrs',
                                                       'CCA.cc2_dlp.2_yrs', 'CCA.cc2_dlp.30_days', 'CCA.cc2_dlp.3_yrs', 'CCA.cc2_dlp.60_days', 'CCA.cc2_dlp.7_days', 'CCA.cc2_dlp.7_yrs', 'CCA.cc2_dlp.90_days', 'CCA.cc2_inq.15_days', 'CCA.cc2_inq.180_days', 'CCA.cc2_inq.1_yr', 
                                                       'CCA.cc2_inq.24_hrs', 'CCA.cc2_inq.2_yrs', 'CCA.cc2_inq.30_days', 'CCA.cc2_inq.3_yrs', 'CCA.cc2_inq.60_days', 'CCA.cc2_inq.7_days', 'CCA.cc2_inq.90_days', 'CCA.cc2_ncl.15_days', 'CCA.cc2_ncl.180_days', 'CCA.cc2_ncl.1_yr', 
                                                       'CCA.cc2_ncl.24_hrs', 'CCA.cc2_ncl.2_yrs', 'CCA.cc2_ncl.30_days', 'CCA.cc2_ncl.3_yrs', 'CCA.cc2_ncl.60_days', 'CCA.cc2_ncl.7_days', 'CCA.cc2_ncl.7_yrs', 'CCA.cc2_ncl.90_days', 'CCA.cc2_nco.15_days', 'CCA.cc2_nco.180_days', 
                                                       'CCA.cc2_nco.1_yr', 'CCA.cc2_nco.24_hrs', 'CCA.cc2_nco.2_yrs', 'CCA.cc2_nco.30_days', 'CCA.cc2_nco.3_yrs', 'CCA.cc2_nco.60_days', 'CCA.cc2_nco.7_days', 'CCA.cc2_nco.7_yrs', 'CCA.cc2_nco.90_days', 'CCA.cc2_nlp.15_days', 
                                                       'CCA.cc2_nlp.180_days', 'CCA.cc2_nlp.1_yr', 'CCA.cc2_nlp.24_hrs', 'CCA.cc2_nlp.2_yrs', 'CCA.cc2_nlp.30_days', 'CCA.cc2_nlp.3_yrs', 'CCA.cc2_nlp.60_days', 'CCA.cc2_nlp.7_days', 'CCA.cc2_nlp.7_yrs', 'CCA.cc2_nlp.90_days', 'CCA.cc2_nto.15_days', 'CCA.cc2_nto.180_days', 'CCA.cc2_nto.1_yr', 'CCA.cc2_nto.24_hrs', 'CCA.cc2_nto.2_yrs', 'CCA.cc2_nto.30_days', 'CCA.cc2_nto.3_yrs', 'CCA.cc2_nto.60_days', 'CCA.cc2_nto.7_days', 'CCA.cc2_nto.7_yrs', 'CCA.cc2_nto.90_days', 'CCA.cc3_acl.15_days', 'CCA.cc3_acl.180_days', 'CCA.cc3_acl.1_yr', 'CCA.cc3_acl.24_hrs', 'CCA.cc3_acl.2_yrs', 'CCA.cc3_acl.30_days', 'CCA.cc3_acl.3_yrs', 'CCA.cc3_acl.60_days', 'CCA.cc3_acl.7_days', 'CCA.cc3_acl.7_yrs', 'CCA.cc3_acl.90_days', 'CCA.cc3_aco.15_days', 'CCA.cc3_aco.180_days', 'CCA.cc3_aco.1_yr', 'CCA.cc3_aco.24_hrs', 'CCA.cc3_aco.2_yrs', 'CCA.cc3_aco.30_days', 'CCA.cc3_aco.3_yrs', 'CCA.cc3_aco.60_days', 'CCA.cc3_aco.7_days', 'CCA.cc3_aco.7_yrs', 'CCA.cc3_aco.90_days', 'CCA.cc3_alp.15_days', 'CCA.cc3_alp.180_days', 'CCA.cc3_alp.1_yr', 'CCA.cc3_alp.24_hrs', 'CCA.cc3_alp.2_yrs', 'CCA.cc3_alp.30_days', 'CCA.cc3_alp.3_yrs', 'CCA.cc3_alp.60_days', 'CCA.cc3_alp.7_days', 'CCA.cc3_alp.7_yrs', 'CCA.cc3_alp.90_days', 'CCA.cc3_ato.15_days', 'CCA.cc3_ato.180_days', 'CCA.cc3_ato.1_yr', 'CCA.cc3_ato.24_hrs', 'CCA.cc3_ato.2_yrs', 'CCA.cc3_ato.30_days', 'CCA.cc3_ato.3_yrs', 'CCA.cc3_ato.60_days', 'CCA.cc3_ato.7_days', 'CCA.cc3_ato.7_yrs', 'CCA.cc3_ato.90_days', 'CCA.cc3_dcl.15_days', 'CCA.cc3_dcl.180_days', 'CCA.cc3_dcl.1_yr', 'CCA.cc3_dcl.24_hrs', 'CCA.cc3_dcl.2_yrs', 'CCA.cc3_dcl.30_days', 'CCA.cc3_dcl.3_yrs', 'CCA.cc3_dcl.60_days', 'CCA.cc3_dcl.7_days', 'CCA.cc3_dcl.7_yrs', 'CCA.cc3_dcl.90_days', 'CCA.cc3_dd.15_days', 'CCA.cc3_dd.180_days', 'CCA.cc3_dd.1_yr', 'CCA.cc3_dd.24_hrs', 'CCA.cc3_dd.2_yrs', 'CCA.cc3_dd.30_days', 'CCA.cc3_dd.3_yrs', 'CCA.cc3_dd.60_days', 'CCA.cc3_dd.7_days', 'CCA.cc3_dd.7_yrs', 'CCA.cc3_dd.90_days', 'CCA.cc3_dlp.15_days', 'CCA.cc3_dlp.180_days', 'CCA.cc3_dlp.1_yr', 'CCA.cc3_dlp.24_hrs', 'CCA.cc3_dlp.2_yrs', 'CCA.cc3_dlp.30_days', 'CCA.cc3_dlp.3_yrs', 'CCA.cc3_dlp.60_days', 'CCA.cc3_dlp.7_days', 'CCA.cc3_dlp.7_yrs', 'CCA.cc3_dlp.90_days', 'CCA.cc3_inq.15_days', 'CCA.cc3_inq.180_days', 'CCA.cc3_inq.1_yr', 'CCA.cc3_inq.24_hrs', 'CCA.cc3_inq.2_yrs', 'CCA.cc3_inq.30_days', 'CCA.cc3_inq.3_yrs', 'CCA.cc3_inq.60_days', 'CCA.cc3_inq.7_days', 'CCA.cc3_inq.90_days', 'CCA.cc3_ncl.15_days', 'CCA.cc3_ncl.180_days', 'CCA.cc3_ncl.1_yr', 'CCA.cc3_ncl.24_hrs', 'CCA.cc3_ncl.2_yrs', 'CCA.cc3_ncl.30_days', 'CCA.cc3_ncl.3_yrs', 'CCA.cc3_ncl.60_days', 'CCA.cc3_ncl.7_days', 'CCA.cc3_ncl.7_yrs', 'CCA.cc3_ncl.90_days', 'CCA.cc3_nco.15_days', 'CCA.cc3_nco.180_days', 'CCA.cc3_nco.1_yr', 'CCA.cc3_nco.24_hrs', 'CCA.cc3_nco.2_yrs', 'CCA.cc3_nco.30_days', 'CCA.cc3_nco.3_yrs', 'CCA.cc3_nco.60_days', 'CCA.cc3_nco.7_days', 'CCA.cc3_nco.7_yrs', 'CCA.cc3_nco.90_days', 'CCA.cc3_nlp.15_days', 'CCA.cc3_nlp.180_days', 'CCA.cc3_nlp.1_yr', 'CCA.cc3_nlp.24_hrs', 'CCA.cc3_nlp.2_yrs', 'CCA.cc3_nlp.30_days', 'CCA.cc3_nlp.3_yrs', 'CCA.cc3_nlp.60_days', 'CCA.cc3_nlp.7_days', 'CCA.cc3_nlp.7_yrs', 'CCA.cc3_nlp.90_days', 'CCA.cc3_nto.15_days', 'CCA.cc3_nto.180_days', 'CCA.cc3_nto.1_yr', 'CCA.cc3_nto.24_hrs', 'CCA.cc3_nto.2_yrs', 'CCA.cc3_nto.30_days', 'CCA.cc3_nto.3_yrs', 'CCA.cc3_nto.60_days', 'CCA.cc3_nto.7_days', 'CCA.cc3_nto.7_yrs', 'CCA.cc3_nto.90_days', 'CCA.cc5_inq.15_days', 'CCA.cc5_inq.180_days', 'CCA.cc5_inq.1_yr', 'CCA.cc5_inq.24_hrs', 'CCA.cc5_inq.2_yrs', 'CCA.cc5_inq.30_days', 'CCA.cc5_inq.3_yrs', 'CCA.cc5_inq.60_days', 'CCA.cc5_inq.7_days', 'CCA.cc5_inq.90_days', 'CCA.cc6_acl.15_days', 'CCA.cc6_acl.180_days', 'CCA.cc6_acl.1_yr', 'CCA.cc6_acl.24_hrs', 'CCA.cc6_acl.2_yrs', 'CCA.cc6_acl.30_days', 'CCA.cc6_acl.3_yrs', 'CCA.cc6_acl.60_days', 'CCA.cc6_acl.7_days', 'CCA.cc6_acl.7_yrs', 'CCA.cc6_acl.90_days', 'CCA.cc6_aco.15_days', 'CCA.cc6_aco.180_days', 'CCA.cc6_aco.1_yr', 'CCA.cc6_aco.24_hrs', 'CCA.cc6_aco.2_yrs', 'CCA.cc6_aco.30_days', 'CCA.cc6_aco.3_yrs', 'CCA.cc6_aco.60_days', 'CCA.cc6_aco.7_days', 'CCA.cc6_aco.7_yrs', 'CCA.cc6_aco.90_days', 'CCA.cc6_alp.15_days', 'CCA.cc6_alp.180_days', 'CCA.cc6_alp.1_yr', 'CCA.cc6_alp.24_hrs', 'CCA.cc6_alp.2_yrs', 'CCA.cc6_alp.30_days', 'CCA.cc6_alp.3_yrs', 'CCA.cc6_alp.60_days', 'CCA.cc6_alp.7_days', 'CCA.cc6_alp.7_yrs', 'CCA.cc6_alp.90_days', 'CCA.cc6_ato.15_days', 'CCA.cc6_ato.180_days', 'CCA.cc6_ato.1_yr', 'CCA.cc6_ato.24_hrs', 'CCA.cc6_ato.2_yrs', 'CCA.cc6_ato.30_days', 'CCA.cc6_ato.3_yrs', 'CCA.cc6_ato.60_days', 'CCA.cc6_ato.7_days', 'CCA.cc6_ato.7_yrs', 'CCA.cc6_ato.90_days', 'CCA.cc6_dcl.15_days', 'CCA.cc6_dcl.180_days', 'CCA.cc6_dcl.1_yr', 'CCA.cc6_dcl.24_hrs', 'CCA.cc6_dcl.2_yrs', 'CCA.cc6_dcl.30_days', 'CCA.cc6_dcl.3_yrs', 'CCA.cc6_dcl.60_days', 'CCA.cc6_dcl.7_days', 'CCA.cc6_dcl.7_yrs', 'CCA.cc6_dcl.90_days', 'CCA.cc6_dd.15_days', 'CCA.cc6_dd.180_days', 'CCA.cc6_dd.1_yr', 'CCA.cc6_dd.24_hrs', 'CCA.cc6_dd.2_yrs', 'CCA.cc6_dd.30_days', 'CCA.cc6_dd.3_yrs', 'CCA.cc6_dd.60_days', 'CCA.cc6_dd.7_days', 'CCA.cc6_dd.7_yrs', 'CCA.cc6_dd.90_days', 'CCA.cc6_dlp.15_days', 'CCA.cc6_dlp.180_days', 'CCA.cc6_dlp.1_yr', 'CCA.cc6_dlp.24_hrs', 'CCA.cc6_dlp.2_yrs', 'CCA.cc6_dlp.30_days', 'CCA.cc6_dlp.3_yrs', 'CCA.cc6_dlp.60_days', 'CCA.cc6_dlp.7_days', 'CCA.cc6_dlp.7_yrs', 'CCA.cc6_dlp.90_days', 'CCA.cc6_inq.15_days', 'CCA.cc6_inq.180_days', 'CCA.cc6_inq.1_yr', 'CCA.cc6_inq.24_hrs', 'CCA.cc6_inq.2_yrs', 'CCA.cc6_inq.30_days', 'CCA.cc6_inq.3_yrs', 'CCA.cc6_inq.60_days', 'CCA.cc6_inq.7_days', 'CCA.cc6_inq.90_days', 'CCA.cc6_ncl.15_days', 'CCA.cc6_ncl.180_days', 'CCA.cc6_ncl.1_yr', 'CCA.cc6_ncl.24_hrs', 'CCA.cc6_ncl.2_yrs', 'CCA.cc6_ncl.30_days', 'CCA.cc6_ncl.3_yrs', 'CCA.cc6_ncl.60_days', 'CCA.cc6_ncl.7_days', 'CCA.cc6_ncl.7_yrs', 'CCA.cc6_ncl.90_days', 'CCA.cc6_nco.15_days', 'CCA.cc6_nco.180_days', 'CCA.cc6_nco.1_yr', 'CCA.cc6_nco.24_hrs', 'CCA.cc6_nco.2_yrs', 'CCA.cc6_nco.30_days', 'CCA.cc6_nco.3_yrs', 'CCA.cc6_nco.60_days', 'CCA.cc6_nco.7_days', 'CCA.cc6_nco.7_yrs', 'CCA.cc6_nco.90_days', 'CCA.cc6_nlp.15_days', 'CCA.cc6_nlp.180_days', 'CCA.cc6_nlp.1_yr', 'CCA.cc6_nlp.24_hrs', 'CCA.cc6_nlp.2_yrs', 'CCA.cc6_nlp.30_days', 'CCA.cc6_nlp.3_yrs', 'CCA.cc6_nlp.60_days', 'CCA.cc6_nlp.7_days', 'CCA.cc6_nlp.7_yrs', 'CCA.cc6_nlp.90_days', 'CCA.cc6_nto.15_days', 'CCA.cc6_nto.180_days', 'CCA.cc6_nto.1_yr', 'CCA.cc6_nto.24_hrs', 'CCA.cc6_nto.2_yrs', 'CCA.cc6_nto.30_days', 'CCA.cc6_nto.3_yrs', 'CCA.cc6_nto.60_days', 'CCA.cc6_nto.7_days', 'CCA.cc6_nto.7_yrs', 'CCA.cc6_nto.90_days', 'CCA.cca_acl.15_days', 'CCA.cca_acl.180_days', 'CCA.cca_acl.1_yr', 'CCA.cca_acl.24_hrs', 'CCA.cca_acl.2_yrs', 'CCA.cca_acl.30_days', 'CCA.cca_acl.3_yrs', 'CCA.cca_acl.60_days', 'CCA.cca_acl.7_days', 'CCA.cca_acl.7_yrs', 'CCA.cca_acl.90_days', 'CCA.cca_aco.15_days', 'CCA.cca_aco.180_days', 'CCA.cca_aco.1_yr', 'CCA.cca_aco.24_hrs', 'CCA.cca_aco.2_yrs', 'CCA.cca_aco.30_days', 'CCA.cca_aco.3_yrs', 'CCA.cca_aco.60_days', 'CCA.cca_aco.7_days', 'CCA.cca_aco.7_yrs', 'CCA.cca_aco.90_days', 'CCA.cca_alp.15_days', 'CCA.cca_alp.180_days', 'CCA.cca_alp.1_yr', 'CCA.cca_alp.24_hrs', 'CCA.cca_alp.2_yrs', 'CCA.cca_alp.30_days', 'CCA.cca_alp.3_yrs', 'CCA.cca_alp.60_days', 'CCA.cca_alp.7_days', 'CCA.cca_alp.7_yrs', 'CCA.cca_alp.90_days', 'CCA.cca_ato.15_days', 'CCA.cca_ato.180_days', 'CCA.cca_ato.1_yr', 'CCA.cca_ato.24_hrs', 'CCA.cca_ato.2_yrs', 'CCA.cca_ato.30_days', 'CCA.cca_ato.3_yrs', 'CCA.cca_ato.60_days', 'CCA.cca_ato.7_days', 'CCA.cca_ato.7_yrs', 'CCA.cca_ato.90_days', 'CCA.cca_dcl.15_days', 'CCA.cca_dcl.180_days', 'CCA.cca_dcl.1_yr', 'CCA.cca_dcl.24_hrs', 'CCA.cca_dcl.2_yrs', 'CCA.cca_dcl.30_days', 'CCA.cca_dcl.3_yrs', 'CCA.cca_dcl.60_days', 'CCA.cca_dcl.7_days', 'CCA.cca_dcl.7_yrs', 'CCA.cca_dcl.90_days', 'CCA.cca_dd.15_days', 'CCA.cca_dd.180_days', 'CCA.cca_dd.1_yr', 'CCA.cca_dd.24_hrs', 'CCA.cca_dd.2_yrs', 'CCA.cca_dd.30_days', 'CCA.cca_dd.3_yrs', 'CCA.cca_dd.60_days', 'CCA.cca_dd.7_days', 'CCA.cca_dd.7_yrs', 'CCA.cca_dd.90_days', 'CCA.cca_dlp.15_days', 'CCA.cca_dlp.180_days', 'CCA.cca_dlp.1_yr', 'CCA.cca_dlp.24_hrs', 'CCA.cca_dlp.2_yrs', 'CCA.cca_dlp.30_days', 'CCA.cca_dlp.3_yrs', 'CCA.cca_dlp.60_days', 'CCA.cca_dlp.7_days', 'CCA.cca_dlp.7_yrs', 'CCA.cca_dlp.90_days', 'CCA.cca_inq.15_days', 'CCA.cca_inq.180_days', 'CCA.cca_inq.1_yr', 'CCA.cca_inq.24_hrs', 'CCA.cca_inq.2_yrs', 'CCA.cca_inq.30_days', 'CCA.cca_inq.3_yrs', 'CCA.cca_inq.60_days', 'CCA.cca_inq.7_days', 'CCA.cca_inq.90_days', 'CCA.cca_ncl.15_days', 'CCA.cca_ncl.180_days', 'CCA.cca_ncl.1_yr', 'CCA.cca_ncl.24_hrs', 'CCA.cca_ncl.2_yrs', 'CCA.cca_ncl.30_days', 'CCA.cca_ncl.3_yrs', 'CCA.cca_ncl.60_days', 'CCA.cca_ncl.7_days', 'CCA.cca_ncl.7_yrs', 'CCA.cca_ncl.90_days', 'CCA.cca_nco.15_days', 'CCA.cca_nco.180_days', 'CCA.cca_nco.1_yr', 'CCA.cca_nco.24_hrs', 'CCA.cca_nco.2_yrs', 'CCA.cca_nco.30_days', 'CCA.cca_nco.3_yrs', 'CCA.cca_nco.60_days', 'CCA.cca_nco.7_days', 'CCA.cca_nco.7_yrs', 'CCA.cca_nco.90_days', 'CCA.cca_nlp.15_days', 'CCA.cca_nlp.180_days', 'CCA.cca_nlp.1_yr', 'CCA.cca_nlp.24_hrs', 'CCA.cca_nlp.2_yrs', 'CCA.cca_nlp.30_days', 'CCA.cca_nlp.3_yrs', 'CCA.cca_nlp.60_days', 'CCA.cca_nlp.7_days', 'CCA.cca_nlp.7_yrs', 'CCA.cca_nlp.90_days', 'CCA.cca_nto.15_days', 'CCA.cca_nto.180_days', 'CCA.cca_nto.1_yr', 'CCA.cca_nto.24_hrs', 'CCA.cca_nto.2_yrs', 'CCA.cca_nto.30_days', 'CCA.cca_nto.3_yrs', 'CCA.cca_nto.60_days', 'CCA.cca_nto.7_days', 'CCA.cca_nto.7_yrs', 'CCA.cca_nto.90_days', 'CCA.ccl_inq.15_days', 'CCA.ccl_inq.180_days', 'CCA.ccl_inq.1_yr', 'CCA.ccl_inq.24_hrs', 'CCA.ccl_inq.2_yrs', 'CCA.ccl_inq.30_days', 'CCA.ccl_inq.3_yrs', 'CCA.ccl_inq.60_days', 'CCA.ccl_inq.7_days', 'CCA.ccl_inq.90_days', 'CCA.clarity_seen', 'CCA.cm2_inq.15_days', 'CCA.cm2_inq.180_days', 'CCA.cm2_inq.1_yr', 'CCA.cm2_inq.24_hrs', 'CCA.cm2_inq.2_yrs', 'CCA.cm2_inq.30_days', 'CCA.cm2_inq.3_yrs', 'CCA.cm2_inq.60_days', 'CCA.cm2_inq.7_days', 'CCA.cm2_inq.90_days', 'CCA.ctar_amt.15_days', 'CCA.ctar_amt.180_days', 'CCA.ctar_amt.1_yr', 'CCA.ctar_amt.24_hrs', 'CCA.ctar_amt.2_yrs', 'CCA.ctar_amt.30_days', 'CCA.ctar_amt.3_yrs', 'CCA.ctar_amt.60_days', 'CCA.ctar_amt.7_days', 'CCA.ctar_amt.7_yrs', 'CCA.ctar_amt.90_days', 'CCA.ctar_num.15_days', 'CCA.ctar_num.180_days', 'CCA.ctar_num.1_yr', 'CCA.ctar_num.24_hrs', 'CCA.ctar_num.2_yrs', 'CCA.ctar_num.30_days', 'CCA.ctar_num.3_yrs', 'CCA.ctar_num.60_days', 'CCA.ctar_num.7_days', 'CCA.ctar_num.7_yrs', 'CCA.ctar_num.90_days', 'CCA.curr_inq_clstpos', 'CCA.debt_ratio', 'CCA.direct_deposit', 'CCA.dsince_1st_bankacct_1st_seen', 'CCA.dsince_1st_bankacct_prv_seen', 'CCA.dsince_1st_loan_opd', 'CCA.dsince_1st_loan_pd_off', 'CCA.dsince_1st_ontime_pmt', 'CCA.dsince_cur_bankacct_1st_seen', 'CCA.dsince_cur_bankacct_prv_seen', 'CCA.dsince_inq_1st_seen', 'CCA.dsince_inq_prv_seen', 'CCA.dsince_lst_loan_chrg_off', 'CCA.dsince_lst_loan_in_colls', 'CCA.dsince_lst_loan_opd', 'CCA.dsince_lst_loan_pd_off', 'CCA.dsince_lst_loan_pmt', 'CCA.dsince_lst_ontime_pmt', 'CCA.dsince_prv_bankacct_1st_seen', 'CCA.dsince_prv_bankacct_prv_seen', 'CCA.dsince_rpt_income_prv_seen', 'CCA.highest_num_days_past_due', 'CCA.hit', 'CCA.housing_status', 'CCA.inq_seen_excluding_484d', 'CCA.inq_seen_including_48', 'CCA.mons_at_addr', 'CCA.mons_at_curr_emp', 'CCA.num_bankaccts', 'CCA.num_emps_lst_six_mons', 'CCA.num_loans', 'CCA.num_loans_30d_past_due', 'CCA.num_loans_60d_past_due', 'CCA.num_loans_90d_past_due', 'CCA.num_loans_curr_and_open', 'CCA.num_loans_past_due', 'CCA.num_loans_pd_off', 'CCA.num_tars', 'CCA.perc_of_loans_30d_past_due', 'CCA.perc_of_loans_60d_past_due', 'CCA.perc_of_loans_90d_past_due', 'CCA.rpt_nmi_prv_seen', 'CCA.too_many_inqs', 'CCA.too_many_tradelines', 'CCA.worst_pmt_rating', 'I.acct_age', 'I.acct_id', 'I.active_military', 'I.age_in_years', 'I.bank_account_num_length', 'I.bank_acct_type', 'I.bank_routing_num', 'I.bank_routing_valid', 'I.cell_num_work_num_same', 'I.cell_work_area_code_same', 'I.city', 'I.collection_inquiry_hits', 'I.control_file_name', 'I.control_file_version_num', 'I.created_at', 'I.days_since_CL_C1_inquiry', 'I.days_since_CL_C2_inquiry', 'I.days_since_CL_C3_inquiry', 'I.days_since_last_activity', 'I.days_since_last_sale', 'I.days_since_last_seen_by_acct', 'I.days_since_last_seen_by_group', 'I.days_until_next_payday', 'I.debit_card_expiration', 'I.debit_card_id', 'I.delivery_point', 'I.DL_present', 'I.DL_state', 'I.email_domain_extension', 'I.email_domain_name', 'I.employer_name', 'I.employer_state', 'I.exception_descriptions', 'I.fed_reserve_district', 'I.fraud_signature_match', 'I.group_id', 'I.hm_drivers_state_same', 'I.hm_state_employer_state_same', 'I.hm_wk_area_codes_same', 'I.hm_wk_same', 'I.housing_status', 'I.i_purpose_type', 'I.i_received_at', 'I.identity_id', 'I.initiating_inquiry', 'I.inquiries_CL_C1_count', 'I.inquiries_CL_C2_count', 'I.inquiries_CL_C3_count', 'I.inquiry_tradeline_type', 'I.itin_as_ssn', 'I.leadgen', 'I.location_id', 'I.max_micr_ssn_historical_count', 'I.max_micr_ssn_historical_count_v2', 'I.months_at_address', 'I.months_at_current_employer', 'I.months_employer_probably_false', 'I.NMI', 'I.num_of_ssns_with_bank_acct', 'I.occupation_type', 'I.ofac_match', 'I.ofac_score',  'I.pass_through_4', 'I.pass_through_5', 'I.pay_frequency', 'I.paycheck_direct_deposit', 'I.requested_amount', 'I.routing_num_present', 'I.ssn', 'I.ssn_deceased', 'I.ssn_distinct_first_last_name_count', 'I.ssn_first_appearance', 'I.ssn_first_last_name_count', 'I.ssn_first_name_count', 'I.ssn_last_name_count', 'I.ssn_valid', 'I.state', 'I.total_historical_inquiries', 'I.wk_phone_present', 'I.xml_response_id', 'RT.cured', 'RT.fpd', 'RT.overall_default', 'RT.payments', 'RT.present']]
    Only_CCA_and_other_cols = Only_CCA_and_other_cols.rename(columns = {'I.pass_through_1':'customerid', 'I.pass_through_2':'loanid', 'I.pass_through_3':'portfolio', 'I.i_received_at':'date_of_batch_run'})
    Only_CCA_and_other_cols = Only_CCA_and_other_cols.filter(regex='^(?!Action|I|RT)')
    Only_CCA_and_other_cols['customerid_flag'] = Only_CCA_and_other_cols.groupby('customerid').cumcount() + 1
    Only_CCA_and_other_cols['loanid_flag'] = Only_CCA_and_other_cols.groupby('loanid').cumcount() + 1
    # Creating the column for date_of_batch_run                                                   


    # Pulling in AR_clarity_batch_pull 1 and pull 2
    # Batch_pull_1
    query_from_1st_pull = f'''SELECT * FROM ndl.AR_ClarityBatchData_pull1;'''

    pull1 = ds.mysql_query(query = query_from_1st_pull,
    user = 'nishant',
    password = 'fai6ieMu',
    mode='pull',
    db ='db6')

    # Batch_pull_2
    query_from_2nd_pull = f'''SELECT * FROM ndl.AR_ClarityBatchData_pull2;'''

    pull2 = ds.mysql_query(query = query_from_2nd_pull,
    user = 'nishant',
    password = 'fai6ieMu',
    mode='pull',
    db ='db6')


    # Creating the conditions for the date_of_batch_run

    Only_CCA_and_other_cols['date_of_batch_run'] = pd.to_datetime(Only_CCA_and_other_cols['date_of_batch_run'])
    pull1['date_of_batch_run'] = pd.to_datetime(pull1['date_of_batch_run'])
    Only_CCA_and_other_cols['date_of_batch_run'] = Only_CCA_and_other_cols['date_of_batch_run'].dt.date
    pull1['date_of_batch_run'] = pull1['date_of_batch_run'].dt.date

    merge1 = pd.merge(Only_CCA_and_other_cols, pull1, on=['customerid', 'portfolio','loanid', 'date_of_batch_run'], how='left')

    Only_CCA_and_other_cols['date_of_batch_run'] = pd.to_datetime(Only_CCA_and_other_cols['date_of_batch_run'])
    pull2['date_of_batch_run'] = pd.to_datetime(pull2['date_of_batch_run'])
    Only_CCA_and_other_cols['date_of_batch_run'] = Only_CCA_and_other_cols['date_of_batch_run'].dt.date
    pull2['date_of_batch_run'] = pull2['date_of_batch_run'].dt.date

    merge2 = pd.merge(merge1, pull2, on=['customerid', 'portfolio','loanid', 'date_of_batch_run'], how='left')
    merge2['loan_series_age_final'] = merge2['loan_series_age_x'].fillna(merge2['loan_series_age_y'])

    merge2 = merge2.drop(['reloan_origination_ind','loan_series_age_x', 'loan_series_age_y', 'loantype_x', 'loantype_y'], axis=1)

    q2 = '''CREATE TABLE IF NOT EXISTS ndl.Clarity_account_review_CCA (
                 'customerid int' , 'loanid int', 'portfolio varchar(30)', PRIMARY KEY (loanid, portfolio),
                 'Action.code_description float', 'Action.codes float', 
                 'Action.denial_product float', 'Action.product_deny_order float', 
                 'Action.result varchar(30)', 'CC.check_bank_routing_num float', 'CC.check_issue_date float', 
                 'CCA.active_duty_status float', 'CCA.amt_of_loans float', 'CCA.amt_of_loans_30d_past_due float', 
                 'CCA.amt_of_loans_60d_past_due float', 'CCA.amt_of_loans_90d_past_due float', 
                 'CCA.amt_of_loans_curr_and_open float', 'CCA.amt_of_loans_past_due float', 
                 'CCA.amt_of_loans_pd_off float', 'CCA.amt_of_tars float', 'CCA.c48_inq.15_days float', 
                 'CCA.c48_inq.180_days float', 'CCA.c48_inq.1_yr float', 'CCA.c48_inq.24_hrs float', 
                 'CCA.c48_inq.2_yrs float', 'CCA.c48_inq.30_days float', 'CCA.c48_inq.3_yrs float', 
                 'CCA.c48_inq.60_days float', 'CCA.c48_inq.7_days float', 'CCA.c48_inq.90_days float', 
                 'CCA.c4d_inq.15_days float', 'CCA.c4d_inq.180_days float', 'CCA.c4d_inq.1_yr float', 
                 'CCA.c4d_inq.24_hrs float', 'CCA.c4d_inq.2_yrs float', 'CCA.c4d_inq.30_days float', 'CCA.c4d_inq.3_yrs float', 
                 'CCA.c4d_inq.60_days float', 'CCA.c4d_inq.7_days float', 'CCA.c4d_inq.90_days float', 'CCA.cc1_acl.15_days float', 
                 'CCA.cc1_acl.180_days float', 'CCA.cc1_acl.1_yr float', 'CCA.cc1_acl.24_hrs float', 'CCA.cc1_acl.2_yrs float', 
                 'CCA.cc1_acl.30_days float', 'CCA.cc1_acl.3_yrs float', 'CCA.cc1_acl.60_days float', 'CCA.cc1_acl.7_days float', 
                 'CCA.cc1_acl.7_yrs float', 'CCA.cc1_acl.90_days float', 'CCA.cc1_aco.15_days float', 'CCA.cc1_aco.180_days float',         
                 'CCA.cc1_aco.1_yr float', 'CCA.cc1_aco.24_hrs float', 'CCA.cc1_aco.2_yrs float', 'CCA.cc1_aco.30_days float', 'CCA.cc1_aco.3_yrs float', 'CCA.cc1_aco.60_days float', 'CCA.cc1_aco.7_days float', 'CCA.cc1_aco.7_yrs float', 'CCA.cc1_aco.90_days float', 'CCA.cc1_alp.15_days float', 'CCA.cc1_alp.180_days float', 'CCA.cc1_alp.1_yr float', 'CCA.cc1_alp.24_hrs float', 'CCA.cc1_alp.2_yrs float', 'CCA.cc1_alp.30_days float', 'CCA.cc1_alp.3_yrs float', 'CCA.cc1_alp.60_days float', 'CCA.cc1_alp.7_days float', 'CCA.cc1_alp.7_yrs float', 'CCA.cc1_alp.90_days float', 'CCA.cc1_ato.15_days float', 'CCA.cc1_ato.180_days float', 'CCA.cc1_ato.1_yr float', 'CCA.cc1_ato.24_hrs float', 'CCA.cc1_ato.2_yrs float', 'CCA.cc1_ato.30_days float', 'CCA.cc1_ato.3_yrs float', 'CCA.cc1_ato.60_days float', 'CCA.cc1_ato.7_days float', 'CCA.cc1_ato.7_yrs float', 
                 'CCA.cc1_ato.90_days float', 'CCA.cc1_dcl.15_days float', 'CCA.cc1_dcl.180_days float', 'CCA.cc1_dcl.1_yr float', 'CCA.cc1_dcl.24_hrs float', 'CCA.cc1_dcl.2_yrs float', 'CCA.cc1_dcl.30_days float', 'CCA.cc1_dcl.3_yrs float', 'CCA.cc1_dcl.60_days float', 'CCA.cc1_dcl.7_days float', 'CCA.cc1_dcl.7_yrs float', 'CCA.cc1_dcl.90_days float', 'CCA.cc1_dd.15_days float', 'CCA.cc1_dd.180_days float', 'CCA.cc1_dd.1_yr float', 'CCA.cc1_dd.24_hrs float', 'CCA.cc1_dd.2_yrs float', 'CCA.cc1_dd.30_days float', 'CCA.cc1_dd.3_yrs float', 'CCA.cc1_dd.60_days float', 'CCA.cc1_dd.7_days float', 'CCA.cc1_dd.7_yrs float', 'CCA.cc1_dd.90_days float', 'CCA.cc1_dlp.15_days float', 'CCA.cc1_dlp.180_days float', 'CCA.cc1_dlp.1_yr float', 'CCA.cc1_dlp.24_hrs float', 'CCA.cc1_dlp.2_yrs float', 'CCA.cc1_dlp.30_days float', 'CCA.cc1_dlp.3_yrs float', 
                 'CCA.cc1_dlp.60_days float', 'CCA.cc1_dlp.7_days float', 'CCA.cc1_dlp.7_yrs float', 'CCA.cc1_dlp.90_days float', 'CCA.cc1_inq.15_days float', 'CCA.cc1_inq.180_days float', 'CCA.cc1_inq.1_yr float', 
                 'CCA.cc1_inq.24_hrs float', 'CCA.cc1_inq.2_yrs float', 'CCA.cc1_inq.30_days float', 'CCA.cc1_inq.3_yrs float', 'CCA.cc1_inq.60_days float', 'CCA.cc1_inq.7_days float', 'CCA.cc1_inq.90_days float', 'CCA.cc1_ncl.15_days float', 'CCA.cc1_ncl.180_days float', 'CCA.cc1_ncl.1_yr float', 'CCA.cc1_ncl.24_hrs float', 'CCA.cc1_ncl.2_yrs float', 'CCA.cc1_ncl.30_days float',
                 'CCA.cc1_ncl.3_yrs float', 'CCA.cc1_ncl.60_days float', 'CCA.cc1_ncl.7_days float', 'CCA.cc1_ncl.7_yrs float', 'CCA.cc1_ncl.90_days float', 'CCA.cc1_nco.15_days float', 'CCA.cc1_nco.180_days float', 'CCA.cc1_nco.1_yr float', 'CCA.cc1_nco.24_hrs float', 'CCA.cc1_nco.2_yrs float', 'CCA.cc1_nco.30_days float', 'CCA.cc1_nco.3_yrs float', 'CCA.cc1_nco.60_days float', 'CCA.cc1_nco.7_days float', 'CCA.cc1_nco.7_yrs float', 'CCA.cc1_nco.90_days float', 'CCA.cc1_nlp.15_days float', 'CCA.cc1_nlp.180_days float', 'CCA.cc1_nlp.1_yr float', 'CCA.cc1_nlp.24_hrs float', 'CCA.cc1_nlp.2_yrs float', 'CCA.cc1_nlp.30_days float', 'CCA.cc1_nlp.3_yrs float', 'CCA.cc1_nlp.60_days float', 'CCA.cc1_nlp.7_days float', 'CCA.cc1_nlp.7_yrs float', 'CCA.cc1_nlp.90_days float', 'CCA.cc1_nto.15_days float', 'CCA.cc1_nto.180_days float', 'CCA.cc1_nto.1_yr float', 'CCA.cc1_nto.24_hrs float', 'CCA.cc1_nto.2_yrs float', 'CCA.cc1_nto.30_days float', 'CCA.cc1_nto.3_yrs float', 'CCA.cc1_nto.60_days float', 'CCA.cc1_nto.7_days float', 'CCA.cc1_nto.7_yrs float', 'CCA.cc1_nto.90_days float', 'CCA.cc2_acl.15_days float', 'CCA.cc2_acl.180_days float', 'CCA.cc2_acl.1_yr float', 'CCA.cc2_acl.24_hrs float', 'CCA.cc2_acl.2_yrs float', 'CCA.cc2_acl.30_days float', 'CCA.cc2_acl.3_yrs float', 'CCA.cc2_acl.60_days float', 'CCA.cc2_acl.7_days float', 'CCA.cc2_acl.7_yrs float', 'CCA.cc2_acl.90_days float', 'CCA.cc2_aco.15_days float', 'CCA.cc2_aco.180_days float', 'CCA.cc2_aco.1_yr float', 'CCA.cc2_aco.24_hrs float', 'CCA.cc2_aco.2_yrs float', 'CCA.cc2_aco.30_days float', 'CCA.cc2_aco.3_yrs float', 'CCA.cc2_aco.60_days float', 'CCA.cc2_aco.7_days float', 'CCA.cc2_aco.7_yrs float', 'CCA.cc2_aco.90_days float', 
                 'CCA.cc2_alp.15_days float', 'CCA.cc2_alp.180_days float', 'CCA.cc2_alp.1_yr float', 'CCA.cc2_alp.24_hrs float', 'CCA.cc2_alp.2_yrs float', 'CCA.cc2_alp.30_days float', 'CCA.cc2_alp.3_yrs float', 'CCA.cc2_alp.60_days float', 'CCA.cc2_alp.7_days float', 'CCA.cc2_alp.7_yrs float', 'CCA.cc2_alp.90_days float', 'CCA.cc2_ato.15_days float', 'CCA.cc2_ato.180_days float', 'CCA.cc2_ato.1_yr float', 'CCA.cc2_ato.24_hrs float', 'CCA.cc2_ato.2_yrs float', 'CCA.cc2_ato.30_days float', 'CCA.cc2_ato.3_yrs float', 'CCA.cc2_ato.60_days float', 'CCA.cc2_ato.7_days float', 'CCA.cc2_ato.7_yrs float', 'CCA.cc2_ato.90_days float', 'CCA.cc2_dcl.15_days float', 
                 'CCA.cc2_dcl.180_days float', 'CCA.cc2_dcl.1_yr float', 'CCA.cc2_dcl.24_hrs float', 'CCA.cc2_dcl.2_yrs float', 'CCA.cc2_dcl.30_days float', 'CCA.cc2_dcl.3_yrs float', 'CCA.cc2_dcl.60_days float', 'CCA.cc2_dcl.7_days float', 'CCA.cc2_dcl.7_yrs float', 'CCA.cc2_dcl.90_days float', 'CCA.cc2_dd.15_days float', 'CCA.cc2_dd.180_days float', 'CCA.cc2_dd.1_yr float', 'CCA.cc2_dd.24_hrs float', 'CCA.cc2_dd.2_yrs float', 'CCA.cc2_dd.30_days float', 'CCA.cc2_dd.3_yrs float', 'CCA.cc2_dd.60_days float', 'CCA.cc2_dd.7_days float', 'CCA.cc2_dd.7_yrs float', 'CCA.cc2_dd.90_days float', 'CCA.cc2_dlp.15_days float', 'CCA.cc2_dlp.180_days float', 'CCA.cc2_dlp.1_yr float', 'CCA.cc2_dlp.24_hrs float', 'CCA.cc2_dlp.2_yrs float', 'CCA.cc2_dlp.30_days float', 'CCA.cc2_dlp.3_yrs float', 'CCA.cc2_dlp.60_days float', 'CCA.cc2_dlp.7_days float', 
                 'CCA.cc2_dlp.7_yrs float', 'CCA.cc2_dlp.90_days float', 'CCA.cc2_inq.15_days float', 'CCA.cc2_inq.180_days float', 'CCA.cc2_inq.1_yr float', 'CCA.cc2_inq.24_hrs float', 'CCA.cc2_inq.2_yrs float', 'CCA.cc2_inq.30_days float', 'CCA.cc2_inq.3_yrs float', 'CCA.cc2_inq.60_days float', 'CCA.cc2_inq.7_days float', 'CCA.cc2_inq.90_days float', 'CCA.cc2_ncl.15_days float', 'CCA.cc2_ncl.180_days float', 'CCA.cc2_ncl.1_yr float', 'CCA.cc2_ncl.24_hrs float', 'CCA.cc2_ncl.2_yrs float', 'CCA.cc2_ncl.30_days float', 'CCA.cc2_ncl.3_yrs float', 'CCA.cc2_ncl.60_days float', 'CCA.cc2_ncl.7_days float', 'CCA.cc2_ncl.7_yrs float', 'CCA.cc2_ncl.90_days float', 'CCA.cc2_nco.15_days float', 'CCA.cc2_nco.180_days float', 'CCA.cc2_nco.1_yr float', 'CCA.cc2_nco.24_hrs float', 'CCA.cc2_nco.2_yrs float', 'CCA.cc2_nco.30_days float', 'CCA.cc2_nco.3_yrs float', 'CCA.cc2_nco.60_days float', 'CCA.cc2_nco.7_days float', 'CCA.cc2_nco.7_yrs float', 'CCA.cc2_nco.90_days float', 'CCA.cc2_nlp.15_days float', 'CCA.cc2_nlp.180_days float', 'CCA.cc2_nlp.1_yr float', 'CCA.cc2_nlp.24_hrs float', 'CCA.cc2_nlp.2_yrs float', 'CCA.cc2_nlp.30_days float', 'CCA.cc2_nlp.3_yrs float', 'CCA.cc2_nlp.60_days float', 'CCA.cc2_nlp.7_days float', 'CCA.cc2_nlp.7_yrs float', 'CCA.cc2_nlp.90_days float', 'CCA.cc2_nto.15_days float', 'CCA.cc2_nto.180_days float', 'CCA.cc2_nto.1_yr float', 'CCA.cc2_nto.24_hrs float', 'CCA.cc2_nto.2_yrs float', 'CCA.cc2_nto.30_days float', 'CCA.cc2_nto.3_yrs float', 'CCA.cc2_nto.60_days float', 'CCA.cc2_nto.7_days float', 'CCA.cc2_nto.7_yrs float', 'CCA.cc2_nto.90_days float', 'CCA.cc3_acl.15_days float', 'CCA.cc3_acl.180_days float', 'CCA.cc3_acl.1_yr float', 'CCA.cc3_acl.24_hrs float', 'CCA.cc3_acl.2_yrs float', 'CCA.cc3_acl.30_days float', 
                 'CCA.cc3_acl.3_yrs float', 'CCA.cc3_acl.60_days float', 'CCA.cc3_acl.7_days float', 'CCA.cc3_acl.7_yrs float', 'CCA.cc3_acl.90_days float', 'CCA.cc3_aco.15_days float', 'CCA.cc3_aco.180_days float', 'CCA.cc3_aco.1_yr float', 'CCA.cc3_aco.24_hrs float', 'CCA.cc3_aco.2_yrs float', 'CCA.cc3_aco.30_days float', 'CCA.cc3_aco.3_yrs float', 'CCA.cc3_aco.60_days float', 'CCA.cc3_aco.7_days float', 'CCA.cc3_aco.7_yrs float', 'CCA.cc3_aco.90_days float', 'CCA.cc3_alp.15_days float', 'CCA.cc3_alp.180_days float', 'CCA.cc3_alp.1_yr float', 'CCA.cc3_alp.24_hrs float', 'CCA.cc3_alp.2_yrs float', 'CCA.cc3_alp.30_days float', 'CCA.cc3_alp.3_yrs float', 'CCA.cc3_alp.60_days float', 'CCA.cc3_alp.7_days float', 'CCA.cc3_alp.7_yrs float', 'CCA.cc3_alp.90_days float', 'CCA.cc3_ato.15_days float', 'CCA.cc3_ato.180_days float', 'CCA.cc3_ato.1_yr float', 'CCA.cc3_ato.24_hrs float', 'CCA.cc3_ato.2_yrs float', 'CCA.cc3_ato.30_days float', 'CCA.cc3_ato.3_yrs float', 'CCA.cc3_ato.60_days float', 'CCA.cc3_ato.7_days float', 'CCA.cc3_ato.7_yrs float', 'CCA.cc3_ato.90_days float', 'CCA.cc3_dcl.15_days float', 'CCA.cc3_dcl.180_days float', 'CCA.cc3_dcl.1_yr float', 'CCA.cc3_dcl.24_hrs float', 'CCA.cc3_dcl.2_yrs float', 'CCA.cc3_dcl.30_days float', 'CCA.cc3_dcl.3_yrs float', 'CCA.cc3_dcl.60_days float', 'CCA.cc3_dcl.7_days float', 'CCA.cc3_dcl.7_yrs float', 'CCA.cc3_dcl.90_days float', 'CCA.cc3_dd.15_days float', 'CCA.cc3_dd.180_days float', 'CCA.cc3_dd.1_yr float', 'CCA.cc3_dd.24_hrs float', 'CCA.cc3_dd.2_yrs float', 'CCA.cc3_dd.30_days float', 'CCA.cc3_dd.3_yrs float', 'CCA.cc3_dd.60_days float', 'CCA.cc3_dd.7_days float', 'CCA.cc3_dd.7_yrs float', 'CCA.cc3_dd.90_days float', 'CCA.cc3_dlp.15_days float', 'CCA.cc3_dlp.180_days float', 'CCA.cc3_dlp.1_yr float', 'CCA.cc3_dlp.24_hrs float', 'CCA.cc3_dlp.2_yrs float', 'CCA.cc3_dlp.30_days float', 'CCA.cc3_dlp.3_yrs float', 'CCA.cc3_dlp.60_days float', 'CCA.cc3_dlp.7_days float',
                 'CCA.cc3_dlp.7_yrs float', 'CCA.cc3_dlp.90_days float', 'CCA.cc3_inq.15_days float', 'CCA.cc3_inq.180_days float', 'CCA.cc3_inq.1_yr float', 'CCA.cc3_inq.24_hrs float', 'CCA.cc3_inq.2_yrs float', 'CCA.cc3_inq.30_days float', 'CCA.cc3_inq.3_yrs float', 'CCA.cc3_inq.60_days float', 'CCA.cc3_inq.7_days float', 'CCA.cc3_inq.90_days float', 'CCA.cc3_ncl.15_days float', 'CCA.cc3_ncl.180_days float', 'CCA.cc3_ncl.1_yr float', 
                 'CCA.cc3_ncl.24_hrs float', 'CCA.cc3_ncl.2_yrs float', 'CCA.cc3_ncl.30_days float', 'CCA.cc3_ncl.3_yrs float', 'CCA.cc3_ncl.60_days float', 'CCA.cc3_ncl.7_days float', 'CCA.cc3_ncl.7_yrs float', 'CCA.cc3_ncl.90_days float', 'CCA.cc3_nco.15_days float', 'CCA.cc3_nco.180_days float', 'CCA.cc3_nco.1_yr float', 'CCA.cc3_nco.24_hrs float', 'CCA.cc3_nco.2_yrs float', 'CCA.cc3_nco.30_days float', 'CCA.cc3_nco.3_yrs float', 'CCA.cc3_nco.60_days float', 'CCA.cc3_nco.7_days float', 'CCA.cc3_nco.7_yrs float', 'CCA.cc3_nco.90_days float', 'CCA.cc3_nlp.15_days float', 'CCA.cc3_nlp.180_days float', 'CCA.cc3_nlp.1_yr float', 'CCA.cc3_nlp.24_hrs float', 'CCA.cc3_nlp.2_yrs float', 'CCA.cc3_nlp.30_days float', 'CCA.cc3_nlp.3_yrs float', 'CCA.cc3_nlp.60_days float', 'CCA.cc3_nlp.7_days float', 'CCA.cc3_nlp.7_yrs float', 'CCA.cc3_nlp.90_days float', 'CCA.cc3_nto.15_days float', 'CCA.cc3_nto.180_days float', 'CCA.cc3_nto.1_yr float', 'CCA.cc3_nto.24_hrs float', 'CCA.cc3_nto.2_yrs float', 'CCA.cc3_nto.30_days float', 'CCA.cc3_nto.3_yrs float', 'CCA.cc3_nto.60_days float', 'CCA.cc3_nto.7_days float', 'CCA.cc3_nto.7_yrs float', 'CCA.cc3_nto.90_days float', 'CCA.cc5_inq.15_days float', 'CCA.cc5_inq.180_days float', 'CCA.cc5_inq.1_yr float', 'CCA.cc5_inq.24_hrs float', 'CCA.cc5_inq.2_yrs float', 'CCA.cc5_inq.30_days float', 'CCA.cc5_inq.3_yrs float', 'CCA.cc5_inq.60_days float', 'CCA.cc5_inq.7_days float', 'CCA.cc5_inq.90_days float', 'CCA.cc6_acl.15_days float', 'CCA.cc6_acl.180_days float', 'CCA.cc6_acl.1_yr float', 'CCA.cc6_acl.24_hrs float', 'CCA.cc6_acl.2_yrs float', 'CCA.cc6_acl.30_days float', 'CCA.cc6_acl.3_yrs float', 'CCA.cc6_acl.60_days float', 'CCA.cc6_acl.7_days float', 'CCA.cc6_acl.7_yrs float', 'CCA.cc6_acl.90_days float', 'CCA.cc6_aco.15_days float', 'CCA.cc6_aco.180_days float', 'CCA.cc6_aco.1_yr float', 'CCA.cc6_aco.24_hrs float', 'CCA.cc6_aco.2_yrs float', 'CCA.cc6_aco.30_days float', 'CCA.cc6_aco.3_yrs float', 'CCA.cc6_aco.60_days float', 'CCA.cc6_aco.7_days float', 'CCA.cc6_aco.7_yrs float', 'CCA.cc6_aco.90_days float', 'CCA.cc6_alp.15_days float', 'CCA.cc6_alp.180_days float', 'CCA.cc6_alp.1_yr float', 'CCA.cc6_alp.24_hrs float', 'CCA.cc6_alp.2_yrs float', 'CCA.cc6_alp.30_days float', 'CCA.cc6_alp.3_yrs float', 'CCA.cc6_alp.60_days float', 'CCA.cc6_alp.7_days float', 'CCA.cc6_alp.7_yrs float', 'CCA.cc6_alp.90_days float', 'CCA.cc6_ato.15_days float', 'CCA.cc6_ato.180_days float', 'CCA.cc6_ato.1_yr float', 'CCA.cc6_ato.24_hrs float', 'CCA.cc6_ato.2_yrs float', 'CCA.cc6_ato.30_days float', 
                 'CCA.cc6_ato.3_yrs float', 'CCA.cc6_ato.60_days float', 'CCA.cc6_ato.7_days float', 'CCA.cc6_ato.7_yrs float', 'CCA.cc6_ato.90_days float', 'CCA.cc6_dcl.15_days float', 'CCA.cc6_dcl.180_days float', 'CCA.cc6_dcl.1_yr float', 'CCA.cc6_dcl.24_hrs float', 'CCA.cc6_dcl.2_yrs float', 'CCA.cc6_dcl.30_days float', 'CCA.cc6_dcl.3_yrs float', 'CCA.cc6_dcl.60_days float', 'CCA.cc6_dcl.7_days float', 'CCA.cc6_dcl.7_yrs float', 'CCA.cc6_dcl.90_days float', 'CCA.cc6_dd.15_days float', 'CCA.cc6_dd.180_days float', 'CCA.cc6_dd.1_yr float', 'CCA.cc6_dd.24_hrs float', 'CCA.cc6_dd.2_yrs float', 'CCA.cc6_dd.30_days float', 'CCA.cc6_dd.3_yrs float', 'CCA.cc6_dd.60_days float', 'CCA.cc6_dd.7_days float', 'CCA.cc6_dd.7_yrs float', 'CCA.cc6_dd.90_days float', 'CCA.cc6_dlp.15_days float', 'CCA.cc6_dlp.180_days float', 'CCA.cc6_dlp.1_yr float', 'CCA.cc6_dlp.24_hrs float', 'CCA.cc6_dlp.2_yrs float', 'CCA.cc6_dlp.30_days float', 'CCA.cc6_dlp.3_yrs float', 'CCA.cc6_dlp.60_days float', 'CCA.cc6_dlp.7_days float', 'CCA.cc6_dlp.7_yrs float', 'CCA.cc6_dlp.90_days float', 'CCA.cc6_inq.15_days float', 'CCA.cc6_inq.180_days float', 'CCA.cc6_inq.1_yr float', 'CCA.cc6_inq.24_hrs float', 'CCA.cc6_inq.2_yrs float', 'CCA.cc6_inq.30_days float', 'CCA.cc6_inq.3_yrs float', 'CCA.cc6_inq.60_days float', 'CCA.cc6_inq.7_days float', 'CCA.cc6_inq.90_days float', 'CCA.cc6_ncl.15_days float', 'CCA.cc6_ncl.180_days float', 'CCA.cc6_ncl.1_yr float', 'CCA.cc6_ncl.24_hrs float', 'CCA.cc6_ncl.2_yrs float', 'CCA.cc6_ncl.30_days float', 'CCA.cc6_ncl.3_yrs float', 'CCA.cc6_ncl.60_days float', 
                 'CCA.cc6_ncl.7_days float', 'CCA.cc6_ncl.7_yrs float', 'CCA.cc6_ncl.90_days float', 'CCA.cc6_nco.15_days float', 'CCA.cc6_nco.180_days float', 'CCA.cc6_nco.1_yr float', 'CCA.cc6_nco.24_hrs float', 'CCA.cc6_nco.2_yrs float', 'CCA.cc6_nco.30_days float', 'CCA.cc6_nco.3_yrs float', 'CCA.cc6_nco.60_days float', 'CCA.cc6_nco.7_days float', 'CCA.cc6_nco.7_yrs float', 'CCA.cc6_nco.90_days float', 'CCA.cc6_nlp.15_days float', 'CCA.cc6_nlp.180_days float', 'CCA.cc6_nlp.1_yr float', 'CCA.cc6_nlp.24_hrs float', 'CCA.cc6_nlp.2_yrs float', 'CCA.cc6_nlp.30_days float', 'CCA.cc6_nlp.3_yrs float', 'CCA.cc6_nlp.60_days float', 'CCA.cc6_nlp.7_days float', 'CCA.cc6_nlp.7_yrs float', 'CCA.cc6_nlp.90_days float', 'CCA.cc6_nto.15_days float', 'CCA.cc6_nto.180_days float', 'CCA.cc6_nto.1_yr float', 'CCA.cc6_nto.24_hrs float', 'CCA.cc6_nto.2_yrs float', 'CCA.cc6_nto.30_days float', 'CCA.cc6_nto.3_yrs float', 'CCA.cc6_nto.60_days float', 'CCA.cc6_nto.7_days float', 'CCA.cc6_nto.7_yrs float', 'CCA.cc6_nto.90_days float', 'CCA.cca_acl.15_days float', 'CCA.cca_acl.180_days float', 'CCA.cca_acl.1_yr float', 'CCA.cca_acl.24_hrs float', 'CCA.cca_acl.2_yrs float', 'CCA.cca_acl.30_days float', 'CCA.cca_acl.3_yrs float', 'CCA.cca_acl.60_days float', 'CCA.cca_acl.7_days float',
                 'CCA.cca_acl.7_yrs float', 'CCA.cca_acl.90_days float', 'CCA.cca_aco.15_days float', 'CCA.cca_aco.180_days float', 'CCA.cca_aco.1_yr float', 'CCA.cca_aco.24_hrs float', 'CCA.cca_aco.2_yrs float', 'CCA.cca_aco.30_days float', 'CCA.cca_aco.3_yrs float', 'CCA.cca_aco.60_days float', 'CCA.cca_aco.7_days float', 'CCA.cca_aco.7_yrs float', 'CCA.cca_aco.90_days float', 'CCA.cca_alp.15_days float', 'CCA.cca_alp.180_days float', 'CCA.cca_alp.1_yr float', 'CCA.cca_alp.24_hrs float', 'CCA.cca_alp.2_yrs float', 'CCA.cca_alp.30_days float', 'CCA.cca_alp.3_yrs float', 'CCA.cca_alp.60_days float', 'CCA.cca_alp.7_days float', 'CCA.cca_alp.7_yrs float', 'CCA.cca_alp.90_days float', 'CCA.cca_ato.15_days float', 'CCA.cca_ato.180_days float', 'CCA.cca_ato.1_yr float', 'CCA.cca_ato.24_hrs float', 'CCA.cca_ato.2_yrs float', 'CCA.cca_ato.30_days float', 'CCA.cca_ato.3_yrs float', 'CCA.cca_ato.60_days float', 'CCA.cca_ato.7_days float', 'CCA.cca_ato.7_yrs float', 'CCA.cca_ato.90_days float', 'CCA.cca_dcl.15_days float', 'CCA.cca_dcl.180_days float', 'CCA.cca_dcl.1_yr float', 'CCA.cca_dcl.24_hrs float', 'CCA.cca_dcl.2_yrs float', 'CCA.cca_dcl.30_days float', 'CCA.cca_dcl.3_yrs float', 'CCA.cca_dcl.60_days float', 'CCA.cca_dcl.7_days float', 'CCA.cca_dcl.7_yrs float', 'CCA.cca_dcl.90_days float', 'CCA.cca_dd.15_days float', 'CCA.cca_dd.180_days float', 'CCA.cca_dd.1_yr float', 'CCA.cca_dd.24_hrs float', 'CCA.cca_dd.2_yrs float', 'CCA.cca_dd.30_days float', 'CCA.cca_dd.3_yrs float', 'CCA.cca_dd.60_days float', 'CCA.cca_dd.7_days float', 'CCA.cca_dd.7_yrs float', 'CCA.cca_dd.90_days float', 'CCA.cca_dlp.15_days float', 'CCA.cca_dlp.180_days float', 'CCA.cca_dlp.1_yr float', 'CCA.cca_dlp.24_hrs float', 'CCA.cca_dlp.2_yrs float', 'CCA.cca_dlp.30_days float', 'CCA.cca_dlp.3_yrs float', 'CCA.cca_dlp.60_days float', 'CCA.cca_dlp.7_days float', 'CCA.cca_dlp.7_yrs float', 'CCA.cca_dlp.90_days float', 'CCA.cca_inq.15_days float', 'CCA.cca_inq.180_days float', 'CCA.cca_inq.1_yr float', 'CCA.cca_inq.24_hrs float', 'CCA.cca_inq.2_yrs float', 'CCA.cca_inq.30_days float', 'CCA.cca_inq.3_yrs float', 'CCA.cca_inq.60_days float', 'CCA.cca_inq.7_days float', 'CCA.cca_inq.90_days float', 'CCA.cca_ncl.15_days float', 'CCA.cca_ncl.180_days float', 'CCA.cca_ncl.1_yr float', 'CCA.cca_ncl.24_hrs float', 'CCA.cca_ncl.2_yrs float', 'CCA.cca_ncl.30_days float', 'CCA.cca_ncl.3_yrs float', 'CCA.cca_ncl.60_days float', 'CCA.cca_ncl.7_days float', 'CCA.cca_ncl.7_yrs float', 'CCA.cca_ncl.90_days float', 'CCA.cca_nco.15_days float', 'CCA.cca_nco.180_days float', 'CCA.cca_nco.1_yr float', 'CCA.cca_nco.24_hrs float', 'CCA.cca_nco.2_yrs float', 'CCA.cca_nco.30_days float', 'CCA.cca_nco.3_yrs float', 'CCA.cca_nco.60_days float', 'CCA.cca_nco.7_days float', 'CCA.cca_nco.7_yrs float', 'CCA.cca_nco.90_days float', 
                 'CCA.cca_nlp.15_days float', 'CCA.cca_nlp.180_days float', 'CCA.cca_nlp.1_yr float', 'CCA.cca_nlp.24_hrs float', 'CCA.cca_nlp.2_yrs float', 'CCA.cca_nlp.30_days float', 'CCA.cca_nlp.3_yrs float', 'CCA.cca_nlp.60_days float', 'CCA.cca_nlp.7_days float', 'CCA.cca_nlp.7_yrs float', 'CCA.cca_nlp.90_days float', 'CCA.cca_nto.15_days float', 'CCA.cca_nto.180_days float', 'CCA.cca_nto.1_yr float', 'CCA.cca_nto.24_hrs float', 'CCA.cca_nto.2_yrs float', 'CCA.cca_nto.30_days float', 'CCA.cca_nto.3_yrs float', 
                 'CCA.cca_nto.60_days float', 'CCA.cca_nto.7_days float', 'CCA.cca_nto.7_yrs float', 'CCA.cca_nto.90_days float', 'CCA.ccl_inq.15_days float', 'CCA.ccl_inq.180_days float', 'CCA.ccl_inq.1_yr float', 'CCA.ccl_inq.24_hrs float', 'CCA.ccl_inq.2_yrs float', 'CCA.ccl_inq.30_days float', 'CCA.ccl_inq.3_yrs float', 'CCA.ccl_inq.60_days float', 'CCA.ccl_inq.7_days float', 'CCA.ccl_inq.90_days float', 'CCA.clarity_seen varchar(30)', 'CCA.cm2_inq.15_days float', 'CCA.cm2_inq.180_days float', 'CCA.cm2_inq.1_yr float', 'CCA.cm2_inq.24_hrs float', 'CCA.cm2_inq.2_yrs float', 'CCA.cm2_inq.30_days float', 'CCA.cm2_inq.3_yrs float', 'CCA.cm2_inq.60_days float', 'CCA.cm2_inq.7_days float', 'CCA.cm2_inq.90_days float', 'CCA.ctar_amt.15_days float', 'CCA.ctar_amt.180_days float', 'CCA.ctar_amt.1_yr float', 'CCA.ctar_amt.24_hrs float', 'CCA.ctar_amt.2_yrs float', 'CCA.ctar_amt.30_days float', 'CCA.ctar_amt.3_yrs float', 'CCA.ctar_amt.60_days float', 'CCA.ctar_amt.7_days float', 'CCA.ctar_amt.7_yrs float', 'CCA.ctar_amt.90_days float', 'CCA.ctar_num.15_days float', 'CCA.ctar_num.180_days float', 'CCA.ctar_num.1_yr float', 'CCA.ctar_num.24_hrs float', 'CCA.ctar_num.2_yrs float', 'CCA.ctar_num.30_days float', 'CCA.ctar_num.3_yrs float', 'CCA.ctar_num.60_days float', 'CCA.ctar_num.7_days float', 'CCA.ctar_num.7_yrs float', 'CCA.ctar_num.90_days float', 'CCA.curr_inq_clstpos float', 'CCA.debt_ratio float', 'CCA.direct_deposit varchar(30)', 'CCA.dsince_1st_bankacct_1st_seen float', 'CCA.dsince_1st_bankacct_prv_seen float', 'CCA.dsince_1st_loan_opd float', 'CCA.dsince_1st_loan_pd_off float', 'CCA.dsince_1st_ontime_pmt float', 'CCA.dsince_cur_bankacct_1st_seen float', 'CCA.dsince_cur_bankacct_prv_seen float', 'CCA.dsince_inq_1st_seen float', 'CCA.dsince_inq_prv_seen float', 'CCA.dsince_lst_loan_chrg_off float', 'CCA.dsince_lst_loan_in_colls float', 'CCA.dsince_lst_loan_opd float', 'CCA.dsince_lst_loan_pd_off float', 'CCA.dsince_lst_loan_pmt float', 'CCA.dsince_lst_ontime_pmt float', 'CCA.dsince_prv_bankacct_1st_seen float', 'CCA.dsince_prv_bankacct_prv_seen float', 'CCA.dsince_rpt_income_prv_seen float', 'CCA.highest_num_days_past_due float', 'CCA.hit varchar(30)', 'CCA.housing_status float', 'CCA.inq_seen_excluding_484d varchar(30)', 'CCA.inq_seen_including_48 varchar(30)', 'CCA.mons_at_addr float', 'CCA.mons_at_curr_emp float', 'CCA.num_bankaccts float', 'CCA.num_emps_lst_six_mons float', 'CCA.num_loans float', 'CCA.num_loans_30d_past_due float', 'CCA.num_loans_60d_past_due float', 'CCA.num_loans_90d_past_due float', 'CCA.num_loans_curr_and_open float', 'CCA.num_loans_past_due float', 'CCA.num_loans_pd_off float', 'CCA.num_tars float', 'CCA.perc_of_loans_30d_past_due float', 'CCA.perc_of_loans_60d_past_due float', 'CCA.perc_of_loans_90d_past_due float', 'CCA.rpt_nmi_prv_seen float', 'CCA.too_many_inqs varchar(30)', 'CCA.too_many_tradelines varchar(30)', 'CCA.worst_pmt_rating varchar(30)', 'I.acct_age float', 'I.acct_id int', 'I.active_military float', 'I.age_in_years int', 'I.bank_account_num_length int', 'I.bank_acct_type float', 'I.bank_routing_num int', 'I.bank_routing_valid varchar(30)', 'I.cell_num_work_num_same varchar(30)', 'I.cell_work_area_code_same varchar(30)', 'I.city varchar(30)', 'I.collection_inquiry_hits float', 'I.control_file_name varchar(30)', 'I.control_file_version_num int', 'I.created_at varchar(30)', 'I.days_since_CL_C1_inquiry float', 'I.days_since_CL_C2_inquiry float', 'I.days_since_CL_C3_inquiry float', 'I.days_since_last_activity float', 'I.days_since_last_sale float', 'I.days_since_last_seen_by_acct float', 'I.days_since_last_seen_by_group float', 'I.days_until_next_payday float', 'I.debit_card_expiration float', 'I.debit_card_id float', 'I.delivery_point float', 'I.DL_present tinyint(1)', 'I.DL_state float', 'I.email_domain_extension varchar(30)', 'I.email_domain_name varchar(30)', 'I.employer_name float', 'I.employer_state float', 'I.exception_descriptions varchar(30)', 'I.fed_reserve_district int', 'I.fraud_signature_match float', 'I.group_id int', 'I.hm_drivers_state_same float', 'I.hm_state_employer_state_same float', 'I.hm_wk_area_codes_same varchar(30)', 'I.hm_wk_same varchar(30)', 'I.housing_status float', 'I.i_purpose_type varchar(30)', 'I.i_received_at varchar(30)', 'I.identity_id varchar(30)', 'I.initiating_inquiry float', 'I.inquiries_CL_C1_count float', 'I.inquiries_CL_C2_count float', 'I.inquiries_CL_C3_count float', 'I.inquiry_tradeline_type varchar(30)', 'I.itin_as_ssn tinyint(1)', 'I.leadgen float', 'I.location_id int', 'I.max_micr_ssn_historical_count float', 'I.max_micr_ssn_historical_count_v2 float', 'I.months_at_address int', 'I.months_at_current_employer int', 'I.months_employer_probably_false tinyint(1)', 'I.NMI int', 'I.num_of_ssns_with_bank_acct float', 'I.occupation_type float', 'I.ofac_match varchar(30)', 'I.ofac_score float',  'I.pass_through_4 float', 'I.pass_through_5 float', 'I.pay_frequency float', 'I.paycheck_direct_deposit float', 'I.requested_amount float', 'I.routing_num_present tinyint(1)', 'I.ssn varchar(30)', 'I.ssn_deceased varchar(30)', 'I.ssn_distinct_first_last_name_count float', 'I.ssn_first_appearance varchar(30)', 'I.ssn_first_last_name_count float', 'I.ssn_first_name_count float', 'I.ssn_last_name_count float', 'I.ssn_valid varchar(30)', 'I.state varchar(30)', 'I.total_historical_inquiries float', 'I.wk_phone_present tinyint(1)', 'I.xml_response_id float', 'RT.cured float', 'RT.fpd float', 'RT.overall_default float', 'RT.payments float',
                 'RT.present tinyint(1), 'date_of_batch_run' , 'customerid_flag' , 'loanid_flag' ,'loan_series_age_final'
                 )
                 ENGINE=InnoDB DEFAULT CHARSET=utf8mb4 DEFAULT COLLATE=utf8mb4_0900_ai_ci;
                '''
    # # # ds.mysql_query(query = q2,
    # # # user = 'nishant',
    # # # password = 'fai6ieMu',
    # # # mode='push',
    # # # db ='db6')




    # # #####################
    # # # Upload tables
    # # #####################

    ds.mysql_upload(merge2, 'nishant', 'fai6ieMu', 'ndl', 'Clarity_account_review_CCA', db ='db6')
    logging.info("Uploaded the CCA data from clarity")



    # CI Columns
    Only_CI_and_other_cols = concatenated_df.filter(regex='^(?!FA|IA|CCA|CC)')
    Only_CI_and_other_cols = Only_CI_and_other_cols.rename(columns = {'I.pass_through_1':'customerid', 'I.pass_through_2':'loanid', 'I.pass_through_3':'portfolio', 'I.i_received_at':'date_of_batch_run'})


    Only_CI_and_other_cols = Only_CI_and_other_cols[[ 'customerid' , 'loanid', 'portfolio','Action.code_description', 'Action.codes', 'Action.denial_product', 
                                                     'Action.product_deny_order', 'Action.result', 'I.acct_age', 'I.acct_id', 'I.active_military', 'I.age_in_years', 
                                                     'I.bank_account_num_length', 'I.bank_acct_type', 'I.bank_routing_num', 'I.bank_routing_valid', 'I.cell_num_work_num_same',
                                                     'I.cell_work_area_code_same', 'I.city', 'I.collection_inquiry_hits', 'I.control_file_name', 'I.control_file_version_num', 
                                                     'I.created_at', 'I.days_since_CL_C1_inquiry', 'I.days_since_CL_C2_inquiry', 'I.days_since_CL_C3_inquiry', 
                                                     'I.days_since_last_activity', 'I.days_since_last_sale', 'I.days_since_last_seen_by_acct',
                                                     'I.days_since_last_seen_by_group', 'I.days_until_next_payday', 'I.debit_card_expiration', 'I.debit_card_id', 
                                                     'I.delivery_point', 'I.DL_present', 'I.DL_state', 'I.email_domain_extension', 'I.email_domain_name', 'I.employer_name',
                                                     'I.employer_state', 'I.exception_descriptions', 'I.fed_reserve_district', 'I.fraud_signature_match', 'I.group_id', 
                                                     'I.hm_drivers_state_same', 'I.hm_state_employer_state_same', 'I.hm_wk_area_codes_same', 'I.hm_wk_same', 'I.housing_status',
                                                     'I.i_purpose_type', 'I.identity_id', 'I.initiating_inquiry', 'I.inquiries_CL_C1_count', 
                                                     'I.inquiries_CL_C2_count', 'I.inquiries_CL_C3_count', 'I.inquiry_tradeline_type', 'I.itin_as_ssn', 'I.leadgen', 
                                                     'I.location_id', 'I.max_micr_ssn_historical_count', 'I.max_micr_ssn_historical_count_v2', 'I.months_at_address', 
                                                     'I.months_at_current_employer', 'I.months_employer_probably_false', 'I.NMI', 'I.num_of_ssns_with_bank_acct', 
                                                     'I.occupation_type', 'I.ofac_match', 'I.ofac_score', 'I.pass_through_4', 'I.pass_through_5', 'I.pay_frequency', 
                                                     'I.paycheck_direct_deposit', 'I.requested_amount', 'I.routing_num_present', 'I.ssn', 'I.ssn_deceased', 
                                                     'I.ssn_distinct_first_last_name_count', 'I.ssn_first_appearance', 'I.ssn_first_last_name_count', 'I.ssn_first_name_count',
                                                     'I.ssn_last_name_count', 'I.ssn_valid', 'I.state', 'I.total_historical_inquiries', 'I.wk_phone_present', 'I.xml_response_id', 
                                                     'RT.cured', 'RT.fpd', 
                                                     'RT.overall_default', 'RT.payments', 'RT.present', 'XmlResponse.exception_descriptions', 'XmlResponse.tracking_num', 'date_of_batch_run']]

    Only_CI_and_other_cols['customerid_count'] = Only_CI_and_other_cols.groupby('customerid').cumcount() + 1
    Only_CI_and_other_cols['loanid_count'] = Only_CI_and_other_cols.groupby('loanid').cumcount() + 1
    q2 = '''CREATE TABLE IF NOT EXISTS ndl.Clarity_account_review_CI (
                 'customerid int' , 'loanid int', 'portfolio varchar(30)', PRIMARY KEY (loanid, portfolio),
                 'Action.code_description float', 'Action.codes float', 'Action.denial_product float', 
                 'Action.product_deny_order float', 'Action.result varchar(30)', 'I.acct_age float', 'I.acct_id int', 
                 'I.active_military float', 'I.age_in_years int', 'I.bank_account_num_length int', 'I.bank_acct_type float', 
                 'I.bank_routing_num int', 'I.bank_routing_valid varchar(30)', 'I.cell_num_work_num_same varchar(30)', 
                 'I.cell_work_area_code_same varchar(30)', 'I.city varchar(30)', 'I.collection_inquiry_hits float', 
                 'I.control_file_name varchar(30)', 'I.control_file_version_num int', 'I.created_at varchar(30)', 
                 'I.days_since_CL_C1_inquiry float', 'I.days_since_CL_C2_inquiry float', 
                 'I.days_since_CL_C3_inquiry float', 'I.days_since_last_activity float', 
                 'I.days_since_last_sale float', 'I.days_since_last_seen_by_acct float', 
                 'I.days_since_last_seen_by_group float', 'I.days_until_next_payday float', 
                 'I.debit_card_expiration float', 'I.debit_card_id float', 'I.delivery_point float',
                 'I.DL_present tinyint(1)', 'I.DL_state float', 'I.email_domain_extension varchar(30)', 
                 'I.email_domain_name varchar(30)', 'I.employer_name float', 'I.employer_state float', 
                 'I.exception_descriptions varchar(30)', 'I.fed_reserve_district int', 'I.fraud_signature_match float', 
                 'I.group_id int', 'I.hm_drivers_state_same float', 'I.hm_state_employer_state_same float', 
                 'I.hm_wk_area_codes_same varchar(30)', 'I.hm_wk_same varchar(30)', 'I.housing_status float', 
                 'I.i_purpose_type varchar(30)', 'I.identity_id varchar(30)',
                 'I.initiating_inquiry float', 'I.inquiries_CL_C1_count float', 'I.inquiries_CL_C2_count float', 
                 'I.inquiries_CL_C3_count float', 'I.inquiry_tradeline_type varchar(30)', 'I.itin_as_ssn tinyint(1)',
                 'I.leadgen float', 'I.location_id int', 'I.max_micr_ssn_historical_count float', 
                 'I.max_micr_ssn_historical_count_v2 float', 'I.months_at_address int', 
                 'I.months_at_current_employer int', 'I.months_employer_probably_false tinyint(1)', 
                 'I.NMI int', 'I.num_of_ssns_with_bank_acct float', 'I.occupation_type float', 
                 'I.ofac_match varchar(30)', 'I.ofac_score float', 'I.pass_through_4 float', 'I.pass_through_5 float', 
                 'I.pay_frequency float', 'I.paycheck_direct_deposit float', 'I.requested_amount float', 
                 'I.routing_num_present tinyint(1)', 'I.ssn varchar(30)', 'I.ssn_deceased varchar(30)', 
                 'I.ssn_distinct_first_last_name_count float', 'I.ssn_first_appearance varchar(30)', 
                 'I.ssn_first_last_name_count float', 'I.ssn_first_name_count float', 'I.ssn_last_name_count float', 
                 'I.ssn_valid varchar(30)', 'I.state varchar(30)', 'I.total_historical_inquiries float', 
                 'I.wk_phone_present tinyint(1)', 'I.xml_response_id float', 'RT.cured float', 'RT.fpd float', 
                 'RT.overall_default float', 'RT.payments float', 'RT.present tinyint(1)', 
                 'XmlResponse.exception_descriptions varchar(30)', 'XmlResponse.tracking_num varchar(30)','date_of_batch_run varchar(30)',
                 'customerid_count','loanid_count')
                 ENGINE=InnoDB DEFAULT CHARSET=utf8mb4 DEFAULT COLLATE=utf8mb4_0900_ai_ci;
                '''
    # # # ds.mysql_query(query = q2,
    # # # user = 'nishant',
    # # # password = 'fai6ieMu',
    # # # mode='push',
    # # # db ='db6')
    query_from_1st_pull = f'''SELECT * FROM ndl.AR_ClarityBatchData_pull1;'''

    pull1 = ds.mysql_query(query = query_from_1st_pull,
    user = 'nishant',
    password = 'fai6ieMu',
    mode='pull',
    db ='db6')

    # Batch_pull_2
    query_from_2nd_pull = f'''SELECT * FROM ndl.AR_ClarityBatchData_pull2;'''

    pull2 = ds.mysql_query(query = query_from_2nd_pull,
    user = 'nishant',
    password = 'fai6ieMu',
    mode='pull',
    db ='db6')


    # Creating the conditions for the date_of_batch_run

    Only_CI_and_other_cols['date_of_batch_run'] = pd.to_datetime(Only_CI_and_other_cols['date_of_batch_run'])
    pull1['date_of_batch_run'] = pd.to_datetime(pull1['date_of_batch_run'])
    Only_CI_and_other_cols['date_of_batch_run'] = Only_CI_and_other_cols['date_of_batch_run'].dt.date
    pull1['date_of_batch_run'] = pull1['date_of_batch_run'].dt.date

    merge1 = pd.merge(Only_CI_and_other_cols, pull1, on=['customerid', 'portfolio','loanid', 'date_of_batch_run'], how='left')

    Only_CI_and_other_cols['date_of_batch_run'] = pd.to_datetime(Only_CI_and_other_cols['date_of_batch_run'])
    pull2['date_of_batch_run'] = pd.to_datetime(pull2['date_of_batch_run'])
    Only_CI_and_other_cols['date_of_batch_run'] = Only_CI_and_other_cols['date_of_batch_run'].dt.date
    pull2['date_of_batch_run'] = pull2['date_of_batch_run'].dt.date

    merge2 = pd.merge(merge1, pull2, on=['customerid', 'portfolio','loanid', 'date_of_batch_run'], how='left')
    merge2['loan_series_age'] = merge2['loan_series_age_x'].fillna(merge2['loan_series_age_y'])

    merge2 = merge2.drop(['reloan_origination_ind','loan_series_age_x', 'loan_series_age_y', 'loantype_x', 'loantype_y'], axis=1)




    # # #####################
    # # # Upload tables
    # # #####################

    ds.mysql_upload(merge2, 'nishant', 'fai6ieMu', 'ndl', 'Clarity_account_review_CI', db='db6')
    logging.info("Uploaded the CI data from clarity")


    ###########
    ##########

    # FA Attributes
    Only_FA_and_other_cols = concatenated_df.filter(regex='^(?!IA|CCA|CC|RT|Action)')
    Only_FA_and_other_cols = Only_FA_and_other_cols.rename(columns = {'I.pass_through_1':'customerid', 'I.pass_through_2':'loanid', 'I.pass_through_3':'portfolio'})
    Only_FA_and_other_cols = Only_FA_and_other_cols.filter(regex='^(?!I)')

    Only_FA_and_other_cols = Only_FA_and_other_cols[['customerid', 'loanid', 'portfolio','FA.AltIdent.credit_risk', 
                                                     'FA.AltIdent.found_w_bankacct', 'FA.AltIdent.fraud_risk', 
                                                     'FA.AltIdent.ident_type_code', 'FA.AltIdent.ident_type_desc', 
                                                     'FA.fraud_signature_ident', 'FA.fraud_signature_match', 
                                                     'FA.fraud_signature_name', 'FA.hit', 'FA.Indic.dl_format_invalid', 
                                                     'FA.Indic.maxnum_ssns_bankacct', 'FA.Indic.phone_incnstnt_w_state', 
                                                     'FA.Indic.wkphone_prev_cell', 'FA.Indic.wkphone_prev_hmphone', 
                                                     'FA.Inq.10_mins', 'FA.Inq.15_days', 'FA.Inq.1_hr', 'FA.Inq.1_min', 'FA.Inq.24_hrs', 'FA.Inq.30_days', 'FA.Inq.365_days', 'FA.Inq.7_days', 'FA.Inq.90_days', 'FA.Mult.10_mins', 'FA.Mult.15_days', 'FA.Mult.1_hr', 'FA.Mult.1_min', 'FA.Mult.24_hrs', 'FA.Mult.30_days', 'FA.Mult.365_days', 'FA.Mult.7_days', 'FA.Mult.90_days', 'FA.PtsTot.10_mins', 'FA.PtsTot.15_days', 'FA.PtsTot.1_hr', 'FA.PtsTot.1_min', 'FA.PtsTot.24_hrs', 'FA.PtsTot.30_days', 'FA.PtsTot.365_days', 'FA.PtsTot.7_days', 'FA.PtsTot.90_days', 'FA.Ratio.10mins.over_15_days', 'FA.Ratio.10mins.over_1_hr', 'FA.Ratio.10mins.over_24_hrs', 'FA.Ratio.10mins.over_30_days', 'FA.Ratio.10mins.over_365_days', 'FA.Ratio.10mins.over_7_days', 'FA.Ratio.10mins.over_90_days', 'FA.Ratio.15days.over_30_days', 'FA.Ratio.15days.over_365_days', 'FA.Ratio.15days.over_90_days', 'FA.Ratio.1hr.over_15_days', 'FA.Ratio.1hr.over_24_hrs', 'FA.Ratio.1hr.over_30_days', 'FA.Ratio.1hr.over_365_days', 'FA.Ratio.1hr.over_7_days', 'FA.Ratio.1hr.over_90_days', 'FA.Ratio.1min.over_10_mins', 'FA.Ratio.1min.over_15_days', 'FA.Ratio.1min.over_1_hr', 'FA.Ratio.1min.over_24_hrs', 'FA.Ratio.1min.over_30_days', 'FA.Ratio.1min.over_365_days', 'FA.Ratio.1min.over_7_days', 'FA.Ratio.1min.over_90_days', 'FA.Ratio.24hrs.over_15_days', 'FA.Ratio.24hrs.over_30_days', 'FA.Ratio.24hrs.over_365_days', 'FA.Ratio.24hrs.over_7_days', 'FA.Ratio.24hrs.over_90_days', 'FA.Ratio.30days.over_365_days', 'FA.Ratio.30days.over_90_days', 'FA.Ratio.7days.over_15_days', 'FA.Ratio.7days.over_30_days', 'FA.Ratio.7days.over_365_days', 'FA.Ratio.7days.over_90_days', 'FA.Ratio.90days.over_365_days', 'FA.RC_A101', 'FA.RC_A102', 'FA.RC_A103', 'FA.RC_A104', 'FA.RC_A105', 'FA.RC_A106', 'FA.Stab.Bankacct.10_mins', 'FA.Stab.Bankacct.15_days', 'FA.Stab.Bankacct.1_hr', 'FA.Stab.Bankacct.1_min', 'FA.Stab.Bankacct.24_hrs', 'FA.Stab.Bankacct.30_days', 'FA.Stab.Bankacct.365_days', 'FA.Stab.Bankacct.7_days', 'FA.Stab.Bankacct.90_days', 'FA.Stab.Cell.10_mins', 'FA.Stab.Cell.15_days', 'FA.Stab.Cell.1_hr', 'FA.Stab.Cell.1_min', 'FA.Stab.Cell.24_hrs', 'FA.Stab.Cell.30_days', 'FA.Stab.Cell.365_days', 'FA.Stab.Cell.7_days', 'FA.Stab.Cell.90_days', 'FA.Stab.Dl.10_mins', 'FA.Stab.Dl.15_days', 'FA.Stab.Dl.1_hr', 'FA.Stab.Dl.1_min', 'FA.Stab.Dl.24_hrs', 'FA.Stab.Dl.30_days', 'FA.Stab.Dl.365_days', 'FA.Stab.Dl.7_days', 'FA.Stab.Dl.90_days', 'FA.Stab.Email.10_mins', 'FA.Stab.Email.15_days', 'FA.Stab.Email.1_hr', 'FA.Stab.Email.1_min', 'FA.Stab.Email.24_hrs', 'FA.Stab.Email.30_days', 'FA.Stab.Email.365_days', 'FA.Stab.Email.7_days', 'FA.Stab.Email.90_days', 'FA.Stab.Hmphone.10_mins', 'FA.Stab.Hmphone.15_days', 'FA.Stab.Hmphone.1_hr', 'FA.Stab.Hmphone.1_min', 'FA.Stab.Hmphone.24_hrs', 'FA.Stab.Hmphone.30_days', 'FA.Stab.Hmphone.365_days', 'FA.Stab.Hmphone.7_days', 'FA.Stab.Hmphone.90_days', 'FA.Stab.Homeaddr.10_mins', 'FA.Stab.Homeaddr.15_days', 'FA.Stab.Homeaddr.1_hr', 'FA.Stab.Homeaddr.1_min', 'FA.Stab.Homeaddr.24_hrs', 'FA.Stab.Homeaddr.30_days', 'FA.Stab.Homeaddr.365_days', 'FA.Stab.Homeaddr.7_days', 'FA.Stab.Homeaddr.90_days', 'FA.Stab.MonInc.10_mins', 'FA.Stab.MonInc.15_days', 'FA.Stab.MonInc.1_hr', 'FA.Stab.MonInc.1_min', 'FA.Stab.MonInc.24_hrs', 'FA.Stab.MonInc.30_days', 'FA.Stab.MonInc.365_days', 'FA.Stab.MonInc.7_days', 'FA.Stab.MonInc.90_days', 'FA.Stab.Wkphone.10_mins', 'FA.Stab.Wkphone.15_days', 'FA.Stab.Wkphone.1_hr', 'FA.Stab.Wkphone.1_min', 'FA.Stab.Wkphone.24_hrs', 'FA.Stab.Wkphone.30_days', 'FA.Stab.Wkphone.365_days', 'FA.Stab.Wkphone.7_days', 'FA.Stab.Wkphone.90_days', 'FA.Stab.Zip.10_mins', 'FA.Stab.Zip.15_days', 'FA.Stab.Zip.1_hr', 'FA.Stab.Zip.1_min', 'FA.Stab.Zip.24_hrs', 'FA.Stab.Zip.30_days', 'FA.Stab.Zip.365_days', 'FA.Stab.Zip.7_days', 'FA.Stab.Zip.90_days', 'FA.stab_rc', 'FA.stab_rc_desc', 'FA.stab_rsn_ns_code', 'FA.stab_rsn_ns_desc', 'FA.stab_score', 'FA.Xtab.Bankacct.bankaccts', 'FA.Xtab.Bankacct.cells', 'FA.Xtab.Bankacct.dls', 'FA.Xtab.Bankacct.emails', 'FA.Xtab.Bankacct.hmphones', 'FA.Xtab.Bankacct.home_addrs', 'FA.Xtab.Bankacct.ssns', 'FA.Xtab.Bankacct.zips', 'FA.Xtab.Cell.bankaccts', 'FA.Xtab.Cell.cells', 'FA.Xtab.Cell.dls', 'FA.Xtab.Cell.emails', 'FA.Xtab.Cell.hmphones', 'FA.Xtab.Cell.home_addrs', 'FA.Xtab.Cell.ssns', 'FA.Xtab.Cell.zips', 'FA.Xtab.Dl.bankaccts', 'FA.Xtab.Dl.cells', 'FA.Xtab.Dl.dls', 'FA.Xtab.Dl.emails', 'FA.Xtab.Dl.hmphones', 'FA.Xtab.Dl.home_addrs', 'FA.Xtab.Dl.ssns', 'FA.Xtab.Dl.zips', 'FA.Xtab.Email.bankaccts', 'FA.Xtab.Email.cells', 'FA.Xtab.Email.dls', 'FA.Xtab.Email.emails', 'FA.Xtab.Email.hmphones', 'FA.Xtab.Email.home_addrs', 'FA.Xtab.Email.ssns', 'FA.Xtab.Email.zips', 'FA.Xtab.Hmphone.bankaccts', 'FA.Xtab.Hmphone.cells', 'FA.Xtab.Hmphone.dls', 'FA.Xtab.Hmphone.emails', 'FA.Xtab.Hmphone.hmphones', 'FA.Xtab.Hmphone.home_addrs', 'FA.Xtab.Hmphone.ssns', 'FA.Xtab.Hmphone.zips', 'FA.Xtab.Homeaddr.bankaccts', 'FA.Xtab.Homeaddr.cells', 'FA.Xtab.Homeaddr.dls', 'FA.Xtab.Homeaddr.emails', 'FA.Xtab.Homeaddr.hmphones', 'FA.Xtab.Homeaddr.home_addrs', 'FA.Xtab.Homeaddr.ssns', 'FA.Xtab.Homeaddr.zips', 'FA.Xtab.Ssn.bankaccts', 'FA.Xtab.Ssn.cells', 'FA.Xtab.Ssn.dls', 'FA.Xtab.Ssn.emails', 'FA.Xtab.Ssn.hmphones', 'FA.Xtab.Ssn.home_addrs', 'FA.Xtab.Ssn.ssns', 'FA.Xtab.Ssn.zips', 'FA.xtab_multiple', 'FA.xtab_pts_tot',  'XmlResponse.exception_descriptions', 'XmlResponse.tracking_num']]

    q2 = '''CREATE TABLE IF NOT EXISTS ndl.Clarity_account_review_FA
    ('customerid int', 'loanid int', 'portfolio varchar(30)', PRIMARY KEY (loanid, portfolio),
    'FA.AltIdent.credit_risk float', 'FA.AltIdent.found_w_bankacct varchar(30)', 'FA.AltIdent.fraud_risk float', 
    'FA.AltIdent.ident_type_code float', 'FA.AltIdent.ident_type_desc varchar(30)', 'FA.fraud_signature_ident float', 
    'FA.fraud_signature_match varchar(30)', 'FA.fraud_signature_name float', 'FA.hit varchar(30)', 
    'FA.Indic.dl_format_invalid float', 'FA.Indic.maxnum_ssns_bankacct float', 'FA.Indic.phone_incnstnt_w_state varchar(30)', 
    'FA.Indic.wkphone_prev_cell varchar(30)', 'FA.Indic.wkphone_prev_hmphone varchar(30)', 'FA.Inq.10_mins float', 
    'FA.Inq.15_days float', 'FA.Inq.1_hr float', 'FA.Inq.1_min float', 'FA.Inq.24_hrs float', 'FA.Inq.30_days float', 
    'FA.Inq.365_days float', 'FA.Inq.7_days float', 'FA.Inq.90_days float', 'FA.Mult.10_mins float', 'FA.Mult.15_days float', 
    'FA.Mult.1_hr float', 'FA.Mult.1_min float', 'FA.Mult.24_hrs float', 'FA.Mult.30_days float', 'FA.Mult.365_days float', 
    'FA.Mult.7_days float', 'FA.Mult.90_days float', 'FA.PtsTot.10_mins float', 'FA.PtsTot.15_days float', 'FA.PtsTot.1_hr float', 
    'FA.PtsTot.1_min float', 'FA.PtsTot.24_hrs float', 'FA.PtsTot.30_days float', 'FA.PtsTot.365_days float', 
    'FA.PtsTot.7_days float', 'FA.PtsTot.90_days float', 'FA.Ratio.10mins.over_15_days float', 'FA.Ratio.10mins.over_1_hr float', 
    'FA.Ratio.10mins.over_24_hrs float', 'FA.Ratio.10mins.over_30_days float', 'FA.Ratio.10mins.over_365_days float', 
    'FA.Ratio.10mins.over_7_days float', 'FA.Ratio.10mins.over_90_days float', 'FA.Ratio.15days.over_30_days float', 
    'FA.Ratio.15days.over_365_days float', 'FA.Ratio.15days.over_90_days float', 'FA.Ratio.1hr.over_15_days float', 
    'FA.Ratio.1hr.over_24_hrs float', 'FA.Ratio.1hr.over_30_days float', 'FA.Ratio.1hr.over_365_days float', 
    'FA.Ratio.1hr.over_7_days float', 'FA.Ratio.1hr.over_90_days float', 'FA.Ratio.1min.over_10_mins float', 
    'FA.Ratio.1min.over_15_days float', 'FA.Ratio.1min.over_1_hr float', 'FA.Ratio.1min.over_24_hrs float', 
    'FA.Ratio.1min.over_30_days float', 'FA.Ratio.1min.over_365_days float', 'FA.Ratio.1min.over_7_days float', 
    'FA.Ratio.1min.over_90_days float', 'FA.Ratio.24hrs.over_15_days float', 'FA.Ratio.24hrs.over_30_days float',
    'FA.Ratio.24hrs.over_365_days float', 'FA.Ratio.24hrs.over_7_days float', 'FA.Ratio.24hrs.over_90_days float', 
    'FA.Ratio.30days.over_365_days float', 'FA.Ratio.30days.over_90_days float', 'FA.Ratio.7days.over_15_days float', 
    'FA.Ratio.7days.over_30_days float', 'FA.Ratio.7days.over_365_days float', 'FA.Ratio.7days.over_90_days float', 
    'FA.Ratio.90days.over_365_days float', 'FA.RC_A101 varchar(30)', 'FA.RC_A102 varchar(30)', 'FA.RC_A103 varchar(30)', 
    'FA.RC_A104 varchar(30)', 'FA.RC_A105 varchar(30)', 'FA.RC_A106 varchar(30)', 'FA.Stab.Bankacct.10_mins float', 
    'FA.Stab.Bankacct.15_days float', 'FA.Stab.Bankacct.1_hr float', 'FA.Stab.Bankacct.1_min float', 'FA.Stab.Bankacct.24_hrs float', 
    'FA.Stab.Bankacct.30_days float', 'FA.Stab.Bankacct.365_days float', 'FA.Stab.Bankacct.7_days float', 
    'FA.Stab.Bankacct.90_days float', 'FA.Stab.Cell.10_mins float', 'FA.Stab.Cell.15_days float', 'FA.Stab.Cell.1_hr float', 
    'FA.Stab.Cell.1_min float', 'FA.Stab.Cell.24_hrs float', 'FA.Stab.Cell.30_days float', 'FA.Stab.Cell.365_days float', 
    'FA.Stab.Cell.7_days float', 'FA.Stab.Cell.90_days float', 'FA.Stab.Dl.10_mins float', 'FA.Stab.Dl.15_days float', 
    'FA.Stab.Dl.1_hr float', 'FA.Stab.Dl.1_min float', 'FA.Stab.Dl.24_hrs float', 'FA.Stab.Dl.30_days float', 
    'FA.Stab.Dl.365_days float', 'FA.Stab.Dl.7_days float', 'FA.Stab.Dl.90_days float', 'FA.Stab.Email.10_mins float', 
    'FA.Stab.Email.15_days float', 'FA.Stab.Email.1_hr float', 'FA.Stab.Email.1_min float', 'FA.Stab.Email.24_hrs float', 
    'FA.Stab.Email.30_days float', 'FA.Stab.Email.365_days float', 'FA.Stab.Email.7_days float', 'FA.Stab.Email.90_days float',
    'FA.Stab.Hmphone.10_mins float', 'FA.Stab.Hmphone.15_days float', 'FA.Stab.Hmphone.1_hr float', 'FA.Stab.Hmphone.1_min float',
    'FA.Stab.Hmphone.24_hrs float', 'FA.Stab.Hmphone.30_days float', 'FA.Stab.Hmphone.365_days float', 'FA.Stab.Hmphone.7_days float', 
    'FA.Stab.Hmphone.90_days float', 'FA.Stab.Homeaddr.10_mins float', 'FA.Stab.Homeaddr.15_days float', 'FA.Stab.Homeaddr.1_hr float',
    'FA.Stab.Homeaddr.1_min float', 'FA.Stab.Homeaddr.24_hrs float', 'FA.Stab.Homeaddr.30_days float', 'FA.Stab.Homeaddr.365_days float', 'FA.Stab.Homeaddr.7_days float', 
    'FA.Stab.Homeaddr.90_days float', 
    'FA.Stab.MonInc.10_mins float', 'FA.Stab.MonInc.15_days float', 'FA.Stab.MonInc.1_hr float', 'FA.Stab.MonInc.1_min float', 'FA.Stab.MonInc.24_hrs float', 'FA.Stab.MonInc.30_days float', 
    'FA.Stab.MonInc.365_days float', 
    'FA.Stab.MonInc.7_days float', 'FA.Stab.MonInc.90_days float', 'FA.Stab.Wkphone.10_mins float', 'FA.Stab.Wkphone.15_days float', 'FA.Stab.Wkphone.1_hr float', 'FA.Stab.Wkphone.1_min float', 
    'FA.Stab.Wkphone.24_hrs float', 'FA.Stab.Wkphone.30_days float', 'FA.Stab.Wkphone.365_days float',
    'FA.Stab.Wkphone.7_days float', 'FA.Stab.Wkphone.90_days float', 'FA.Stab.Zip.10_mins float', 'FA.Stab.Zip.15_days float', 
    'FA.Stab.Zip.1_hr float', 'FA.Stab.Zip.1_min float', 'FA.Stab.Zip.24_hrs float', 'FA.Stab.Zip.30_days float', 
    'FA.Stab.Zip.365_days float', 'FA.Stab.Zip.7_days float', 'FA.Stab.Zip.90_days float', 'FA.stab_rc varchar(30)', 
    'FA.stab_rc_desc varchar(30)', 'FA.stab_rsn_ns_code float',
    'FA.stab_rsn_ns_desc varchar(30)', 
    'FA.stab_score float', 'FA.Xtab.Bankacct.bankaccts float', 'FA.Xtab.Bankacct.cells float', 'FA.Xtab.Bankacct.dls float', 
    'FA.Xtab.Bankacct.emails float', 'FA.Xtab.Bankacct.hmphones float', 
    'FA.Xtab.Bankacct.home_addrs float', 'FA.Xtab.Bankacct.ssns float', 'FA.Xtab.Bankacct.zips float', 
    'FA.Xtab.Cell.bankaccts float', 'FA.Xtab.Cell.cells float', 'FA.Xtab.Cell.dls float', 'FA.Xtab.Cell.emails float', 
    'FA.Xtab.Cell.hmphones float', 'FA.Xtab.Cell.home_addrs float', 
    'FA.Xtab.Cell.ssns float', 'FA.Xtab.Cell.zips float', 
    'FA.Xtab.Dl.bankaccts float', 'FA.Xtab.Dl.cells float', 'FA.Xtab.Dl.dls float', 'FA.Xtab.Dl.emails float', 
    'FA.Xtab.Dl.hmphones float', 'FA.Xtab.Dl.home_addrs float', 'FA.Xtab.Dl.ssns float', 'FA.Xtab.Dl.zips float', 
    'FA.Xtab.Email.bankaccts float', 
    'FA.Xtab.Email.cells float', 'FA.Xtab.Email.dls float', 'FA.Xtab.Email.emails float', 'FA.Xtab.Email.hmphones float', 
    'FA.Xtab.Email.home_addrs float', 'FA.Xtab.Email.ssns float', 'FA.Xtab.Email.zips float', 'FA.Xtab.Hmphone.bankaccts float', 
    'FA.Xtab.Hmphone.cells float', 
    'FA.Xtab.Hmphone.dls float', 'FA.Xtab.Hmphone.emails float', 
    'FA.Xtab.Hmphone.hmphones float', 'FA.Xtab.Hmphone.home_addrs float', 'FA.Xtab.Hmphone.ssns float', 
    'FA.Xtab.Hmphone.zips float', 'FA.Xtab.Homeaddr.bankaccts float', 'FA.Xtab.Homeaddr.cells float', 
    'FA.Xtab.Homeaddr.dls float', 'FA.Xtab.Homeaddr.emails float', 'FA.Xtab.Homeaddr.hmphones float', 
    'FA.Xtab.Homeaddr.home_addrs float', 'FA.Xtab.Homeaddr.ssns float', 'FA.Xtab.Homeaddr.zips float', 
    'FA.Xtab.Ssn.bankaccts float', 'FA.Xtab.Ssn.cells float', 'FA.Xtab.Ssn.dls float', 'FA.Xtab.Ssn.emails float', 
    'FA.Xtab.Ssn.hmphones float', 'FA.Xtab.Ssn.home_addrs float', 'FA.Xtab.Ssn.ssns float', 
    'FA.Xtab.Ssn.zips float', 'FA.xtab_multiple float', 'FA.xtab_pts_tot float',
    'XmlResponse.exception_descriptions varchar(30)', 'XmlResponse.tracking_num varchar(30)')

      ENGINE=InnoDB DEFAULT CHARSET=utf8mb4 DEFAULT COLLATE=utf8mb4_0900_ai_ci;
                '''
    # # # ds.mysql_query(query = q2,
    # # # user = 'nishant',
    # # # password = 'fai6ieMu',
    # # # mode='push',
    # # # db ='db6')



    # # #####################
    # # # Upload tables
    # # #####################

    ds.mysql_upload(Only_FA_and_other_cols, 'nishant', 'fai6ieMu', 'ndl', 'Clarity_account_review_FA', db='db6')
    logging.info("Uploaded the FA data from clarity")



    #IA Columns
    # Only IA Columns
    Only_IA_and_other_cols = concatenated_df.filter(regex='^(?!FA|CCA|CC|RT|Action)')
    Only_IA_and_other_cols = Only_IA_and_other_cols.filter(regex='^(IA|I)')
    Only_IA_and_other_cols = Only_IA_and_other_cols.rename(columns={'I.pass_through_1': 'customerid', 'I.pass_through_2': 'loanid', 'I.pass_through_3': 'portfolio'})
    Only_IA_and_other_cols = Only_IA_and_other_cols[['customerid', 'loanid', 'portfolio'] + Only_IA_and_other_cols.filter(regex='^IA').columns.tolist()]

    q2 = '''CREATE TABLE IF NOT EXISTS ndl.Clarity_account_review_IA
    ('customerid int', 'loanid int', 'portfolio varchar(30)', PRIMARY KEY(loanid,portfolio) 'IA.dsince_1st_addr_match float', 
    'IA.dsince_1st_wkphone_match float', 'IA.dsince_lst_addr_nonmatch float', 'IA.dsince_lst_income_rpt float', 
    'IA.dsince_lst_paydate_rpt float', 'IA.dsince_lst_wkphone_nonmatch float', 'IA.high_income_1_yr float', 
    'IA.hit varchar(30)', 'IA.last_direct_deposit varchar(30)', 'IA.last_housing_status varchar(30)', 
    'IA.last_pay_freq varchar(30)', 'IA.low_income_1_yr float', 'IA.median_income_180_days float', 
    'IA.median_income_1_yr float', 'IA.median_income_90_days float', 'IA.mode_income_180_days float', 
    'IA.mode_income_1_yr float', 'IA.mode_income_90_days float', 'IA.next_paydate_calc varchar(30)', 
    'IA.num_incomes_180_days float', 'IA.num_incomes_1_yr float', 'IA.num_incomes_90_days float')
     ENGINE=InnoDB DEFAULT CHARSET=utf8mb4 DEFAULT COLLATE=utf8mb4_0900_ai_ci;'''
    # # # ds.mysql_query(query = q2,
    # # # user = 'nishant',
    # # # password = 'fai6ieMu',
    # # # mode='push',
    # # # db ='db6')



    # # #####################
    # # # Upload tables
    # # #####################

    ds.mysql_upload(Only_IA_and_other_cols, 'nishant', 'fai6ieMu', 'ndl', 'Clarity_account_review_IA', db='db6')
    logging.info("Uploaded the IA data from clarity")



